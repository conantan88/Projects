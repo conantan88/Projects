{
 "cells": [
  {
   "cell_type": "markdown",
   "metadata": {},
   "source": [
    "# Topic Modelling with Latent Dirichlet Allocation on FOMC Meeting Minutes \n",
    "## Conan Tan"
   ]
  },
  {
   "cell_type": "markdown",
   "metadata": {},
   "source": [
    "# Introduction\n",
    "\n",
    "This is a little project that I put together to better understand topic modelling, specifically Latent Dirichlet Allocation (LDA), by analyzing minutes from 70 different FOMC meetings ranging from 2009-2018. Coming out of undergraduate, I wondered how data science and economics would blend together as more and more economists begin to use data science approaches. I by no means am an economist nor a data scientist, but this project helped me uncover how both these fields perfectly compliment one another. "
   ]
  },
  {
   "cell_type": "code",
   "execution_count": 1,
   "metadata": {
    "collapsed": true
   },
   "outputs": [],
   "source": [
    "#Import libraries\n",
    "%matplotlib inline\n",
    "import requests, re, pyLDAvis.sklearn\n",
    "import pandas as pd\n",
    "import numpy as np\n",
    "import matplotlib.pyplot as plt\n",
    "from bs4 import BeautifulSoup\n",
    "from ipywidgets import widgets, interactive\n",
    "from sklearn.feature_extraction.text import CountVectorizer, TfidfVectorizer\n",
    "from sklearn.decomposition import LatentDirichletAllocation\n",
    "from sklearn.feature_extraction import text #edit stop word list\n",
    "from sklearn.model_selection import GridSearchCV #grid searchs to find optimal parameters for LDA\n",
    "from collections import Counter \n",
    "from nltk.stem.snowball import EnglishStemmer"
   ]
  },
  {
   "cell_type": "code",
   "execution_count": 2,
   "metadata": {
    "collapsed": true
   },
   "outputs": [],
   "source": [
    "#Missing meetings 20140618, 20131218, 20100316, 20090128,20091104, # 20080130, 20080318, 20080430, 20080625, 20080805, 20080916, 20081029, 20081216] \n",
    "meetingDates = [  20180131, 20180321, 20180502, \n",
    "                  20170201, 20170315, 20170503, 20170614, 20170726, 20170920, 20171101, 20171213, \n",
    "                  20160127, 20160316, 20160427, 20160615, 20160727, 20160921, 20161102, 20161214, \n",
    "                  20150128, 20150318, 20150429, 20150617, 20150729, 20150917, 20151028, 20151216, \n",
    "                  20140129, 20140319, 20140430, 20140730, 20140917, 20141029, 20141217, \n",
    "                  20130130, 20130320, 20130501, 20130619, 20130731, 20130918, 20131030, \n",
    "                  20120125, 20120313, 20120425, 20120620, 20120801, 20120913, 20121024, 20121212,\n",
    "                  20110126, 20110315, 20110427, 20110622, 20110809, 20110921, 20111102, 20111213,\n",
    "                  20100127, 20100428, 20100623, 20100810, 20100921, 20101103, 20101214,\n",
    "                  20090318, 20090429, 20090624, 20090812, 20090923, 20091216]\n"
   ]
  },
  {
   "cell_type": "code",
   "execution_count": 3,
   "metadata": {
    "collapsed": true
   },
   "outputs": [],
   "source": [
    "#Recursively add tag's string to returnable string\n",
    "def recursiveTagSearch(text, tag, last):  \n",
    "  #skip if string is None\n",
    "  if tag.string == None:\n",
    "    return recursiveTagSearch(text, tag.next, last)\n",
    "  if tag.string != last:\n",
    "    text += tag.string\n",
    "  if tag.next.string == 'Voting for this action:':\n",
    "    return text\n",
    "  else:\n",
    "    return recursiveTagSearch(text, tag.next, tag.string)"
   ]
  },
  {
   "cell_type": "code",
   "execution_count": 4,
   "metadata": {
    "collapsed": true,
    "scrolled": true
   },
   "outputs": [],
   "source": [
    "#Scrapes Fed website for FOMC meeting minutes\n",
    "def FOMCscrapper():\n",
    "  baseURL = 'https://www.federalreserve.gov/monetarypolicy/fomcminutes'\n",
    "  minutes = [] \n",
    "  #Iterate through FOMC Meeting Dates and append selected text to list\n",
    "  for date in meetingDates:\n",
    "    currentURl = baseURL + str(date) + '.htm'\n",
    "    page = requests.get(currentURl)\n",
    "    soup = BeautifulSoup(page.content, 'html.parser')\n",
    "    print('Scrapping meeting date:', date)\n",
    "    minutes.append(recursiveTagSearch('',soup.find('strong', text = re.compile('^Developments')), ''))\n",
    "  return minutes"
   ]
  },
  {
   "cell_type": "markdown",
   "metadata": {},
   "source": [
    "# Data Gathering and Preprocessing\n",
    "\n",
    "We begin building our corpus (a collection of text) by scraping the Federal Reserve website for meeting minutes from the years 2009-2018. I was only able to gather 70 meeting minutes since some meetings had special HTML tags that were not compatabile with my scraper. After fetching the data, we begin the preprocessing phase by stemming the text. Stemming is the process of taking a word, or token, and reducing it into its root word. For example, any plurals or possessives such as \"Dogs\" or \"Powell's\" is changed to \"Dog\" and \"Powell\". Next, we remove any stop words from our data. Stop words are common words that are likely to appear frequently in our data and add no insightful value. It seems that the FOMC have a propensity to reference their time frames in months. Let's remove the names of months from the data since they do not seem to add value. Remember the data has already been stemmed so to remove the months, we must specify the stemmed name of the months. "
   ]
  },
  {
   "cell_type": "code",
   "execution_count": 5,
   "metadata": {
    "scrolled": true
   },
   "outputs": [
    {
     "name": "stdout",
     "output_type": "stream",
     "text": [
      "Scrapping meeting date: 20180131\n",
      "Scrapping meeting date: 20180321\n",
      "Scrapping meeting date: 20180502\n",
      "Scrapping meeting date: 20170201\n",
      "Scrapping meeting date: 20170315\n",
      "Scrapping meeting date: 20170503\n",
      "Scrapping meeting date: 20170614\n",
      "Scrapping meeting date: 20170726\n",
      "Scrapping meeting date: 20170920\n",
      "Scrapping meeting date: 20171101\n",
      "Scrapping meeting date: 20171213\n",
      "Scrapping meeting date: 20160127\n",
      "Scrapping meeting date: 20160316\n",
      "Scrapping meeting date: 20160427\n",
      "Scrapping meeting date: 20160615\n",
      "Scrapping meeting date: 20160727\n",
      "Scrapping meeting date: 20160921\n",
      "Scrapping meeting date: 20161102\n",
      "Scrapping meeting date: 20161214\n",
      "Scrapping meeting date: 20150128\n",
      "Scrapping meeting date: 20150318\n",
      "Scrapping meeting date: 20150429\n",
      "Scrapping meeting date: 20150617\n",
      "Scrapping meeting date: 20150729\n",
      "Scrapping meeting date: 20150917\n",
      "Scrapping meeting date: 20151028\n",
      "Scrapping meeting date: 20151216\n",
      "Scrapping meeting date: 20140129\n",
      "Scrapping meeting date: 20140319\n",
      "Scrapping meeting date: 20140430\n",
      "Scrapping meeting date: 20140730\n",
      "Scrapping meeting date: 20140917\n",
      "Scrapping meeting date: 20141029\n",
      "Scrapping meeting date: 20141217\n",
      "Scrapping meeting date: 20130130\n",
      "Scrapping meeting date: 20130320\n",
      "Scrapping meeting date: 20130501\n",
      "Scrapping meeting date: 20130619\n",
      "Scrapping meeting date: 20130731\n",
      "Scrapping meeting date: 20130918\n",
      "Scrapping meeting date: 20131030\n",
      "Scrapping meeting date: 20120125\n",
      "Scrapping meeting date: 20120313\n",
      "Scrapping meeting date: 20120425\n",
      "Scrapping meeting date: 20120620\n",
      "Scrapping meeting date: 20120801\n",
      "Scrapping meeting date: 20120913\n",
      "Scrapping meeting date: 20121024\n",
      "Scrapping meeting date: 20121212\n",
      "Scrapping meeting date: 20110126\n",
      "Scrapping meeting date: 20110315\n",
      "Scrapping meeting date: 20110427\n",
      "Scrapping meeting date: 20110622\n",
      "Scrapping meeting date: 20110809\n",
      "Scrapping meeting date: 20110921\n",
      "Scrapping meeting date: 20111102\n",
      "Scrapping meeting date: 20111213\n",
      "Scrapping meeting date: 20100127\n",
      "Scrapping meeting date: 20100428\n",
      "Scrapping meeting date: 20100623\n",
      "Scrapping meeting date: 20100810\n",
      "Scrapping meeting date: 20100921\n",
      "Scrapping meeting date: 20101103\n",
      "Scrapping meeting date: 20101214\n",
      "Scrapping meeting date: 20090318\n",
      "Scrapping meeting date: 20090429\n",
      "Scrapping meeting date: 20090624\n",
      "Scrapping meeting date: 20090812\n",
      "Scrapping meeting date: 20090923\n",
      "Scrapping meeting date: 20091216\n"
     ]
    }
   ],
   "source": [
    "#Load documents into array\n",
    "minutes = FOMCscrapper()"
   ]
  },
  {
   "cell_type": "code",
   "execution_count": 7,
   "metadata": {},
   "outputs": [],
   "source": [
    "#Stem each word in doc\n",
    "stemmer = EnglishStemmer()\n",
    "analyzer = CountVectorizer().build_analyzer()\n",
    "\n",
    "for i in range(len(minutes)):\n",
    "    tokenList = analyzer(minutes[i])\n",
    "    for j in range(len(tokenList)):\n",
    "        tokenList[j] = stemmer.stem(tokenList[j])\n",
    "    minutes[i] = ' '.join(tokenList)\n",
    "\n",
    "#Adjust stopwords as preferred, testing without months. \n",
    "stopWords = ['januari', 'februari', 'march', 'april', 'june', 'juli', 'septemb', 'august','novemb', 'octob', 'decemb']\n",
    "stopWords = text.ENGLISH_STOP_WORDS.union(stopWords)"
   ]
  },
  {
   "cell_type": "markdown",
   "metadata": {},
   "source": [
    "# Creating the Document Term Matrix and the LDA Model\n",
    "\n",
    "Our data is currently charactized as a list of 70 items where each item is a string containing the entire meeting's minutes. Before we can use LDA, we must create a document term matrix (DTM). A document term matrix describes the frequency of words in a collection of documents. Intuitively, you can think of a DTM as a two-diminensional list of N documents where each document is represented by another list M words (every word in the collection) long that keeps count of the frequency of that word. Now we can finally use Latent Dirichlet Allocation to topic model our collection of data! \n",
    "\n",
    "# A Brief Introduction to Latent Dirichlet Allocation\n",
    "\n",
    "LDA is a topic modelling approach that utilizes a bag of words approach. It states that any corpus (a collection of text) is comprised of K number of topics. Each topic then consists of a set of words that come directly from the documents. After the topics and the topic words are identified, LDA will then assign two probabilites: the probaility that a document belongs in a specific topic and the probability that a word belongs that topic. This, of course, is a surface level view of LDA. For more indepth surface level information, check out http://blog.echen.me/2011/08/22/introduction-to-latent-dirichlet-allocation/ and for the statistically savvy https://ai.stanford.edu/~ang/papers/jair03-lda.pdf.\n",
    "\n",
    "After some mathmatical wizandry courtesy of David Blei et al (2003), LDA took our 70 documents which consisted of 2320 unique words and created 5 topic groups (a number predetermined by me). Let's now analyze our documents and our topics!"
   ]
  },
  {
   "cell_type": "code",
   "execution_count": 8,
   "metadata": {},
   "outputs": [],
   "source": [
    "#Create document term matrix using count vectorizer for LDA\n",
    "countVectorizer = CountVectorizer(max_df = .5, stop_words = stopWords, lowercase = True)\n",
    "countVectorized = countVectorizer.fit_transform(minutes)\n",
    "\n",
    "#Create document term matrix using Term Frequency - Inverse Document Frequency\n",
    "tfidfVectorizer = TfidfVectorizer(max_df = .5, stop_words = stopWords, lowercase = True)\n",
    "tfidfVectorized = tfidfVectorizer.fit_transform(minutes)"
   ]
  },
  {
   "cell_type": "code",
   "execution_count": 9,
   "metadata": {},
   "outputs": [
    {
     "name": "stdout",
     "output_type": "stream",
     "text": [
      "Document Term Matrix Shape: (N docs, M Words) (70, 2320) \n",
      "\n",
      "LDA Vector Shape(N Docs, K Topics): (70, 5)\n"
     ]
    }
   ],
   "source": [
    "#Create LDA model\n",
    "topicNum = 5\n",
    "\n",
    "ldaModel = LatentDirichletAllocation(n_components = topicNum, learning_method = 'batch', learning_decay = .9, random_state = 94)\n",
    "ldaModelFit = ldaModel.fit_transform(countVectorized)\n",
    "print('Document Term Matrix Shape: (N docs, M Words)', countVectorized.shape, '\\n')\n",
    "print('LDA Vector Shape(N Docs, K Topics):', ldaModelFit.shape)"
   ]
  },
  {
   "cell_type": "code",
   "execution_count": 10,
   "metadata": {
    "scrolled": true
   },
   "outputs": [],
   "source": [
    "#Find topic distributions for each document per topic\n",
    "#topicDist = [doc.tolist() for doc in ldaModelFit]\n",
    "\n",
    "#Make meeting dates suitable for printing\n",
    "printDates = []\n",
    "for i in range(len(meetingDates)):\n",
    "    printDates.append('Document ' + str(i) + ' - ' + str(meetingDates[i]))\n",
    "    \n",
    "#Create interactive widgets for visualization\n",
    "documents = widgets.Dropdown(\n",
    "    options = printDates,\n",
    "    value = printDates[0],\n",
    "    description = 'Documents'\n",
    ")\n",
    "topWords = widgets.IntSlider(\n",
    "    value = 15,\n",
    "    min = 0,\n",
    "    max = 30,\n",
    "    description = \"N Words\",\n",
    "    readout_format = 'd'\n",
    ")"
   ]
  },
  {
   "cell_type": "markdown",
   "metadata": {},
   "source": [
    "# Word Frequency Counter, TF-IDF Score, and Topic Distribution\n",
    "\n",
    "Here we have a small interactive visualization that allows you to choose a document to view its word frequency distribution, TF-IDF score, as well as its topic distribution. The Term Frequency - Inverse Document Frequency (TF-IDF) is a metric to measure how important a term is to a document. Higher scores indicate the term is rarer to the given document and more emphasis should be placed during analysis. Comparisons between word frequency and TF-IDF showcase how some words might not be as important as its simple frequency depicts. Topic distribution refers to the probability that a document falls into the selected topic. \n",
    "\n",
    "\n",
    "\n",
    "\n",
    "From this visualization, the basic topics that are talked about during the meeting as well as how much of an emphasis is put on that topic. It appears that some meetings have word frequency highs in the 30's while some only peak below 10. Looking specifically at document 8 with meeting date 20170920, the meeting immediately following the severe hurricane season of 2017, we can see that the main topic of the FOMC meeting was in fact the storms. More on this document later."
   ]
  },
  {
   "cell_type": "code",
   "execution_count": 11,
   "metadata": {
    "collapsed": true
   },
   "outputs": [],
   "source": [
    "#Get word frequencies for specified docs\n",
    "def getTopWords(vectorizer, vectorized, docNum, n):\n",
    "    featureNames = list(vectorizer.get_feature_names())\n",
    "    counts = vectorized[docNum].sum(axis=0).A1\n",
    "    freqDistribution = Counter(dict(zip(featureNames, counts))).most_common(n)\n",
    "    xValues = [val[0] for val in freqDistribution]\n",
    "    yValues = [val[1] for val in freqDistribution]\n",
    "    xValues.reverse()\n",
    "    yValues.reverse()\n",
    "    return [xValues, yValues]"
   ]
  },
  {
   "cell_type": "code",
   "execution_count": 12,
   "metadata": {
    "scrolled": false
   },
   "outputs": [
    {
     "data": {
      "application/vnd.jupyter.widget-view+json": {
       "model_id": "439587819b4648b18d9ca3fc8b969d53",
       "version_major": 2,
       "version_minor": 0
      },
      "text/plain": [
       "A Jupyter Widget"
      ]
     },
     "metadata": {},
     "output_type": "display_data"
    }
   ],
   "source": [
    "#Print bar chart showing top N words of a document\n",
    "def plotFreqDist(topWords, documents):\n",
    "    \n",
    "    docNum = int(documents.split()[1])\n",
    "    \n",
    "    #Adjust error where pyLDAvis and sklearn LDA have different topic orderings\n",
    "    topicsReorder = [ldaModelFit[docNum][1], ldaModelFit[docNum][3], ldaModelFit[docNum][2],\n",
    "                     ldaModelFit[docNum][4], ldaModelFit[docNum][0]]\n",
    "    \n",
    "    #Create plot\n",
    "    plt.figure(figsize =(14,10))\n",
    "    wordFreqDist = plt.subplot(2,2,1)\n",
    "    tfidfDist = plt.subplot(2,2,2)\n",
    "    topicDist = plt.subplot(2,2,3)\n",
    "\n",
    "    countVect = getTopWords(countVectorizer, countVectorized, docNum, topWords)\n",
    "    tfidfVect = getTopWords(tfidfVectorizer, tfidfVectorized, docNum, topWords)\n",
    "    wordFreqDist.barh(countVect[0], countVect[1], color = 'y')\n",
    "    tfidfDist.barh(tfidfVect[0], tfidfVect[1], color = 'm')\n",
    "    topicDist.bar([1,2,3,4,5],topicsReorder, color = 'c')\n",
    "    \n",
    "    title = 'Document '+ str(docNum)\n",
    "    ylabel = 'Top ' + str(topWords) + ' Terms'\n",
    "    plt.suptitle(title)\n",
    "    wordFreqDist.set_title('Word Frequency')\n",
    "    wordFreqDist.set_ylabel(ylabel)\n",
    "    wordFreqDist.set_xlabel('Frequency')\n",
    "    tfidfDist.set_title('TF-IDF Score')\n",
    "    tfidfDist.set_xlabel('p')\n",
    "    topicDist.set_title('Topic Probability')\n",
    "    topicDist.set_ylabel('Prob')\n",
    "    topicDist.set_xlabel('Topics')\n",
    "    plt.show()\n",
    "\n",
    "interactive(plotFreqDist, topWords = topWords, documents = documents)"
   ]
  },
  {
   "cell_type": "markdown",
   "metadata": {},
   "source": [
    "# The Final LDA Visualization\n",
    "\n",
    "Finally, we have a visualization that sums up the entire LDA model. On the left, we have a intertopic distance map. The size of the topic refers to its overall weight in the model and the distances show how related the topics are to one another. On the right, we have a count of the words that appear in the document. Clicking on a topic shows the words that most contribute to that topic. Grey indicates the total count of that word in the entire corpus, while the red shading shows the proportion of that count that was used in the specified topic. The lamda slider sorts the words based its relative weighting to that topic. A lower value shows words that more uniquely correlate with that topic, while a value of 1 sorts by word frequency in that topic. Let's begin some analysis into the topics and the words that comprise our topics! \n"
   ]
  },
  {
   "cell_type": "code",
   "execution_count": 13,
   "metadata": {},
   "outputs": [
    {
     "data": {
      "text/html": [
       "\n",
       "<link rel=\"stylesheet\" type=\"text/css\" href=\"https://cdn.rawgit.com/bmabey/pyLDAvis/files/ldavis.v1.0.0.css\">\n",
       "\n",
       "\n",
       "<div id=\"ldavis_el351961119906562409844101669\"></div>\n",
       "<script type=\"text/javascript\">\n",
       "\n",
       "var ldavis_el351961119906562409844101669_data = {\"mdsDat\": {\"Freq\": [32.825050762562, 24.850232180787096, 24.541146439114566, 14.836225972609396, 2.9473446449269476], \"cluster\": [1, 1, 1, 1, 1], \"topics\": [1, 2, 3, 4, 5], \"x\": [68.28898620605469, 148.82765197753906, 233.05636596679688, 16.013797760009766, 320.67840576171875], \"y\": [-264.69537353515625, 33.40536880493164, -193.52645874023438, -86.53534698486328, -36.897682189941406]}, \"tinfo\": {\"Category\": [\"Default\", \"Default\", \"Default\", \"Default\", \"Default\", \"Default\", \"Default\", \"Default\", \"Default\", \"Default\", \"Default\", \"Default\", \"Default\", \"Default\", \"Default\", \"Default\", \"Default\", \"Default\", \"Default\", \"Default\", \"Default\", \"Default\", \"Default\", \"Default\", \"Default\", \"Default\", \"Default\", \"Default\", \"Default\", \"Default\", \"Topic1\", \"Topic1\", \"Topic1\", \"Topic1\", \"Topic1\", \"Topic1\", \"Topic1\", \"Topic1\", \"Topic1\", \"Topic1\", \"Topic1\", \"Topic1\", \"Topic1\", \"Topic1\", \"Topic1\", \"Topic1\", \"Topic1\", \"Topic1\", \"Topic1\", \"Topic1\", \"Topic1\", \"Topic1\", \"Topic1\", \"Topic1\", \"Topic1\", \"Topic1\", \"Topic1\", \"Topic1\", \"Topic1\", \"Topic1\", \"Topic1\", \"Topic1\", \"Topic1\", \"Topic1\", \"Topic1\", \"Topic1\", \"Topic1\", \"Topic1\", \"Topic1\", \"Topic1\", \"Topic1\", \"Topic1\", \"Topic1\", \"Topic1\", \"Topic1\", \"Topic1\", \"Topic1\", \"Topic1\", \"Topic1\", \"Topic1\", \"Topic1\", \"Topic1\", \"Topic1\", \"Topic1\", \"Topic1\", \"Topic1\", \"Topic1\", \"Topic1\", \"Topic1\", \"Topic1\", \"Topic1\", \"Topic1\", \"Topic1\", \"Topic1\", \"Topic1\", \"Topic1\", \"Topic1\", \"Topic1\", \"Topic1\", \"Topic2\", \"Topic2\", \"Topic2\", \"Topic2\", \"Topic2\", \"Topic2\", \"Topic2\", \"Topic2\", \"Topic2\", \"Topic2\", \"Topic2\", \"Topic2\", \"Topic2\", \"Topic2\", \"Topic2\", \"Topic2\", \"Topic2\", \"Topic2\", \"Topic2\", \"Topic2\", \"Topic2\", \"Topic2\", \"Topic2\", \"Topic2\", \"Topic2\", \"Topic2\", \"Topic2\", \"Topic2\", \"Topic2\", \"Topic2\", \"Topic2\", \"Topic2\", \"Topic2\", \"Topic2\", \"Topic2\", \"Topic2\", \"Topic2\", \"Topic2\", \"Topic2\", \"Topic2\", \"Topic2\", \"Topic2\", \"Topic2\", \"Topic2\", \"Topic2\", \"Topic2\", \"Topic2\", \"Topic2\", \"Topic2\", \"Topic2\", \"Topic2\", \"Topic2\", \"Topic2\", \"Topic2\", \"Topic2\", \"Topic2\", \"Topic2\", \"Topic2\", \"Topic2\", \"Topic2\", \"Topic2\", \"Topic2\", \"Topic2\", \"Topic2\", \"Topic2\", \"Topic2\", \"Topic2\", \"Topic3\", \"Topic3\", \"Topic3\", \"Topic3\", \"Topic3\", \"Topic3\", \"Topic3\", \"Topic3\", \"Topic3\", \"Topic3\", \"Topic3\", \"Topic3\", \"Topic3\", \"Topic3\", \"Topic3\", \"Topic3\", \"Topic3\", \"Topic3\", \"Topic3\", \"Topic3\", \"Topic3\", \"Topic3\", \"Topic3\", \"Topic3\", \"Topic3\", \"Topic3\", \"Topic3\", \"Topic3\", \"Topic3\", \"Topic3\", \"Topic3\", \"Topic3\", \"Topic3\", \"Topic3\", \"Topic3\", \"Topic3\", \"Topic3\", \"Topic3\", \"Topic3\", \"Topic3\", \"Topic3\", \"Topic3\", \"Topic3\", \"Topic3\", \"Topic3\", \"Topic3\", \"Topic3\", \"Topic3\", \"Topic3\", \"Topic3\", \"Topic3\", \"Topic3\", \"Topic3\", \"Topic3\", \"Topic3\", \"Topic3\", \"Topic3\", \"Topic3\", \"Topic4\", \"Topic4\", \"Topic4\", \"Topic4\", \"Topic4\", \"Topic4\", \"Topic4\", \"Topic4\", \"Topic4\", \"Topic4\", \"Topic4\", \"Topic4\", \"Topic4\", \"Topic4\", \"Topic4\", \"Topic4\", \"Topic4\", \"Topic4\", \"Topic4\", \"Topic4\", \"Topic4\", \"Topic4\", \"Topic4\", \"Topic4\", \"Topic4\", \"Topic4\", \"Topic4\", \"Topic4\", \"Topic4\", \"Topic4\", \"Topic4\", \"Topic4\", \"Topic4\", \"Topic4\", \"Topic4\", \"Topic4\", \"Topic4\", \"Topic4\", \"Topic4\", \"Topic4\", \"Topic4\", \"Topic4\", \"Topic4\", \"Topic4\", \"Topic4\", \"Topic4\", \"Topic4\", \"Topic4\", \"Topic4\", \"Topic4\", \"Topic4\", \"Topic4\", \"Topic4\", \"Topic4\", \"Topic4\", \"Topic4\", \"Topic4\", \"Topic4\", \"Topic4\", \"Topic4\", \"Topic4\", \"Topic4\", \"Topic4\", \"Topic4\", \"Topic4\", \"Topic4\", \"Topic4\", \"Topic4\", \"Topic5\", \"Topic5\", \"Topic5\", \"Topic5\", \"Topic5\", \"Topic5\", \"Topic5\", \"Topic5\", \"Topic5\", \"Topic5\", \"Topic5\", \"Topic5\", \"Topic5\", \"Topic5\", \"Topic5\", \"Topic5\", \"Topic5\", \"Topic5\", \"Topic5\", \"Topic5\", \"Topic5\", \"Topic5\", \"Topic5\", \"Topic5\", \"Topic5\", \"Topic5\", \"Topic5\", \"Topic5\", \"Topic5\", \"Topic5\", \"Topic5\", \"Topic5\", \"Topic5\", \"Topic5\", \"Topic5\", \"Topic5\", \"Topic5\", \"Topic5\", \"Topic5\", \"Topic5\", \"Topic5\", \"Topic5\", \"Topic5\", \"Topic5\", \"Topic5\", \"Topic5\", \"Topic5\", \"Topic5\", \"Topic5\", \"Topic5\", \"Topic5\", \"Topic5\", \"Topic5\", \"Topic5\", \"Topic5\", \"Topic5\", \"Topic5\", \"Topic5\", \"Topic5\", \"Topic5\", \"Topic5\", \"Topic5\", \"Topic5\", \"Topic5\", \"Topic5\", \"Topic5\", \"Topic5\"], \"Freq\": [59.0, 157.0, 88.0, 105.0, 88.0, 81.0, 102.0, 65.0, 102.0, 163.0, 64.0, 86.0, 91.0, 53.0, 53.0, 98.0, 105.0, 31.0, 102.0, 80.0, 57.0, 75.0, 78.0, 32.0, 39.0, 46.0, 39.0, 41.0, 59.0, 42.0, 22.103163267331553, 17.29891292554855, 16.38724803634272, 15.434804199013934, 13.439847916152612, 11.558013723206443, 10.668549991312437, 8.764788145718342, 32.54947665964782, 7.812678401363005, 7.741982812739514, 89.57934711089429, 6.85873791421769, 6.85728537254779, 6.856480722412581, 6.843318346827203, 7.628393973621709, 5.907146964380164, 5.9062575888597015, 5.9060939369287, 27.80458024460855, 4.954381059588915, 4.954241288201822, 4.954169602334734, 4.953407225275095, 4.952723150882404, 4.952636523536802, 4.952636523536802, 4.95234793077965, 4.952249206425008, 14.764030370105448, 7.418168096892186, 11.533722267485606, 87.91003195613796, 28.749187151762953, 15.417452688892174, 19.976226844481822, 10.47246579855451, 9.68180714791464, 61.95174446560321, 24.222549809372083, 16.387357296508565, 30.067892926574054, 19.193643987874534, 47.759822318860955, 29.37936191247263, 23.70473219084726, 57.283415926236934, 61.265516404257895, 40.048070919267964, 40.876447302026506, 23.12003173426127, 19.799250345955475, 55.29495981922331, 31.27306529586879, 31.35976829783412, 75.879709261895, 38.063926516085225, 40.43085172599644, 49.33662596352436, 30.693829108497223, 40.13859816052981, 47.86698476774992, 25.05015919501584, 37.76975113503334, 25.1430126441714, 26.510116695091337, 26.59951092539063, 24.94837909858543, 39.313408259888554, 30.92733486272809, 18.818723696246195, 17.883287530278018, 11.356400772607815, 11.35103920896986, 9.501793789202639, 8.570610705107072, 8.568889895155129, 10.24768957240924, 144.61193869923127, 7.6392468571602254, 7.637331857066615, 7.574819242731004, 23.59649455922796, 6.665373144497402, 8.19317472558752, 5.775974133162524, 5.775974133162524, 5.775974133162524, 5.775974133162524, 5.775783767588634, 5.775282274206672, 5.774889103096551, 5.774889102963621, 14.04232942596264, 21.280430288631596, 4.840632762706938, 4.837556906987759, 4.835106746589389, 73.64594197868969, 23.764954548434318, 15.033848523201932, 64.09687872826028, 28.026183720552083, 14.882704870285606, 19.014353101697765, 13.383278198745943, 74.43481132915566, 10.989928504566763, 9.493731100521517, 32.848156405148856, 13.84610141652699, 52.675383026880546, 19.213538829072128, 26.568216672996158, 18.99551460055519, 26.70908104891866, 84.55790084074332, 44.131474488805026, 56.222213731506976, 28.05372978003518, 25.872981604330736, 36.316502941861955, 31.91098848919436, 19.43420898409391, 25.180268810233716, 30.503128379570633, 26.105757045639887, 24.42302174787322, 25.03985564712045, 27.906632424338703, 27.660073996312, 21.83752116093389, 25.80329376356639, 23.35692157891037, 23.595470185823388, 53.24643497082511, 24.40711254913609, 52.135942276899705, 18.817356210950333, 37.2703293834819, 12.296005404220715, 23.434384681093345, 23.434384680959564, 20.63399630206766, 10.432713502757364, 7.638352975349341, 7.638129026011639, 7.636249767943793, 6.705833742071177, 38.02319529574118, 17.78644727432269, 5.774473093373427, 5.7694173582137305, 28.60941213404695, 13.039537543437888, 24.542331592389672, 4.844162840377704, 4.844126294403348, 4.843656184410183, 4.834840358271848, 55.931029697029, 11.36489890046879, 10.276477340002229, 3.91262252665938, 3.911908807986752, 18.81702288960258, 10.119697733784715, 24.650715544477475, 21.118847393970547, 17.879596629793454, 19.719836938291397, 30.525261801225593, 45.04819584979712, 17.206171597524236, 72.10418872868898, 61.45143400370195, 31.576519653489463, 60.533990314074366, 20.76375881952133, 31.296343075583668, 38.88577291622112, 62.33955266910167, 47.701889935770446, 39.34322514203449, 27.605868296040857, 41.54626452863776, 23.072633201364457, 26.380027605016046, 27.49900498728414, 27.50357054595533, 24.44625365682878, 23.21030138437874, 23.770275851511325, 31.242155380854705, 10.828005990456905, 9.052787879528275, 8.164934848663357, 7.277991025396668, 6.381304143690441, 5.502501910935291, 5.502319894942523, 5.496041512068835, 4.614809854347806, 4.613544777655804, 5.37370652296214, 3.7277848918173464, 3.727784890045046, 3.7277848662258344, 3.7272305104612697, 3.727230494946827, 3.72711285404978, 3.727112854049772, 3.726974684290623, 3.7269746747423462, 3.7266368789820197, 3.7253260845667424, 3.7236497752028908, 3.7180394434741095, 3.716855560635878, 11.614185373314877, 5.497289022357877, 2.840216987158017, 2.8402169827364867, 6.362768697658726, 6.3627686976247855, 47.803548034527, 29.39163964892839, 18.29698584074454, 6.3627686975993045, 35.77420813265037, 11.084160692979381, 16.653178448105184, 55.57680289923834, 11.581758138816664, 9.981804676264675, 32.019303581632585, 18.558877789505345, 7.255085736304125, 22.895521823089524, 27.183681088480647, 11.162715817005038, 15.99372809557145, 11.446515469310514, 13.970038792217377, 30.60846531928171, 25.05789545802953, 16.279483290017996, 24.817064428437217, 16.570762527557385, 18.65738357963133, 20.628049519846584, 25.868353975631635, 20.7574137005487, 18.63315988146689, 19.317861664248746, 21.05251319693314, 15.414525726823685, 16.056053409040523, 18.08542144227832, 15.286694853173815, 14.555591766282664, 7.537089649062095, 4.448118469160969, 7.951798532120587, 1.9769415239462256, 1.9769415239462256, 1.3591472865168244, 1.3591472865168244, 1.3591472865168244, 1.3591472865168244, 1.3578866724285317, 1.32273379728874, 34.204582069936976, 1.9490441311063174, 0.7413530457621342, 0.7413530457621342, 0.7413530457621342, 0.7413530457621342, 0.7413530457621342, 0.7413530457621342, 0.7383577556261713, 0.7383577556261701, 0.7383577556261692, 0.738357755626168, 0.7383577556261671, 0.7383577556261663, 0.7383577556261666, 0.738357755626165, 0.7383577556261638, 0.7381028189470802, 0.7381028185629266, 1.3539910416154866, 1.5614701001810738, 2.5833715115471767, 1.9772280694902524, 3.7327912422244123, 4.145015486226532, 1.3578615205946483, 1.3563874704850323, 4.064668284406813, 1.3559721056463194, 3.5691326738324625, 8.97354255568217, 3.765499866557427, 1.6493552919476584, 7.938926185639833, 1.1453295444144236, 2.5891843726524044, 6.916412810347338, 2.509684248921141, 4.1174233145144585, 2.034431051480503, 3.7082803227198955, 3.9725670759478273, 5.425241778172823, 3.2031783658067594, 3.426433008229345, 3.0501671376098782, 3.3294437804521553, 2.896889587369223, 3.123153603862237, 2.825729528100378, 2.8663249526239474, 2.8616550692169778, 2.9073570640800144, 2.8454132358348834, 2.6086019560590703, 2.5952236447473265], \"Term\": [\"hurrican\", \"rrp\", \"2017\", \"2010\", \"disrupt\", \"gasolin\", \"eme\", \"2009\", \"2016\", \"guidanc\", \"afe\", \"underutil\", \"cpi\", \"2018\", \"al\", \"2012\", \"2011\", \"talf\", \"2015\", \"softwar\", \"loss\", \"paper\", \"test\", \"symmetr\", \"2019\", \"unlik\", \"liftoff\", \"2008\", \"stimulus\", \"neutral\", \"foreclos\", \"deleverag\", \"600\", \"400\", \"spanish\", \"outlet\", \"267\", \"ireland\", \"approxim\", \"dsge\", \"pmis\", \"2012\", \"oppos\", \"inappropri\", \"aid\", \"interven\", \"sequestr\", \"ior\", \"thailand\", \"m\\u00e9xico\", \"chain\", \"mf\", \"irish\", \"satisfactori\", \"spain\", \"cyprus\", \"mae\", \"fanni\", \"attitud\", \"parent\", \"settl\", \"outweigh\", \"disinfl\", \"2011\", \"vacanc\", \"mismatch\", \"downbeat\", \"24\", \"portug\", \"softwar\", \"regular\", \"earthquak\", \"guarante\", \"diffus\", \"extens\", \"peripher\", \"syndic\", \"gasolin\", \"2013\", \"preced\", \"ecb\", \"effort\", \"45\", \"disrupt\", \"sell\", \"efficaci\", \"guidanc\", \"threshold\", \"paper\", \"2010\", \"portfolio\", \"strategi\", \"2014\", \"german\", \"arrang\", \"heighten\", \"deceler\", \"model\", \"collater\", \"liftoff\", \"exercis\", \"award\", \"preannounc\", \"outlin\", \"supplementari\", \"ukrain\", \"session\", \"bea\", \"tslf\", \"rrp\", \"iv\", \"incept\", \"allot\", \"control\", \"consult\", \"creditor\", \"rata\", \"pro\", \"submitt\", \"ascend\", \"stopout\", \"administ\", \"port\", \"west\", \"preset\", \"commenc\", \"aerospac\", \"succinct\", \"interv\", \"underutil\", \"conting\", \"chair\", \"test\", \"cap\", \"floor\", \"29\", \"elimin\", \"2015\", \"qualit\", \"criteria\", \"postmeet\", \"shutdown\", \"languag\", \"17\", \"conclud\", \"shall\", \"rrps\", \"guidanc\", \"bid\", \"2014\", \"reaffirm\", \"resolut\", \"restraint\", \"propos\", \"winter\", \"updat\", \"dissip\", \"add\", \"specif\", \"set\", \"cpi\", \"2016\", \"sep\", \"2013\", \"perform\", \"threshold\", \"2018\", \"brexit\", \"al\", \"undershoot\", \"2019\", \"proxim\", \"african\", \"hispan\", \"white\", \"mmf\", \"membership\", \"mmfs\", \"flatter\", \"rre\", \"neutral\", \"hike\", \"relev\", \"buoyant\", \"symmetr\", \"turbul\", \"reform\", \"invers\", \"slope\", \"presidenti\", \"deadlin\", \"afe\", \"2020\", \"000\", \"tariff\", \"differenti\", \"elect\", \"stand\", \"wait\", \"enact\", \"referendum\", \"expansionari\", \"upbeat\", \"manner\", \"age\", \"2016\", \"2017\", \"curv\", \"cpi\", \"upcom\", \"american\", \"valuat\", \"eme\", \"sloo\", \"vulner\", \"gas\", \"cmbs\", \"shortfal\", \"prime\", \"grow\", \"exceed\", \"likelihood\", \"deputi\", \"framework\", \"talf\", \"taf\", \"nonsupervisori\", \"situationth\", \"175\", \"remitt\", \"clunker\", \"outlookin\", \"paydown\", \"arm\", \"relief\", \"2006\", \"100\", \"gse\", \"aaa\", \"prepaid\", \"mount\", \"sheetth\", \"actionin\", \"dampen\", \"staf\", \"interim\", \"baselin\", \"went\", \"cliff\", \"drive\", \"realloc\", \"preserv\", \"capabl\", \"dubai\", \"a2\", \"aa\", \"2009\", \"2008\", \"tech\", \"p2\", \"loss\", \"shrink\", \"expir\", \"2010\", \"200\", \"steepli\", \"function\", \"ask\", \"impair\", \"trillion\", \"scale\", \"unsold\", \"smooth\", \"poor\", \"300\", \"paper\", \"complet\", \"consecut\", \"stimulus\", \"save\", \"fundament\", \"collater\", \"arrang\", \"smaller\", \"widespread\", \"unusu\", \"bid\", \"evalu\", \"prior\", \"softwar\", \"excess\", \"caus\", \"harvey\", \"irma\", \"storm\", \"landfal\", \"maria\", \"hardship\", \"devast\", \"gulf\", \"inflict\", \"piec\", \"outag\", \"hurrican\", \"communiti\", \"shut\", \"resin\", \"compet\", \"vast\", \"kansa\", \"reconstruct\", \"inexpens\", \"die\", \"ambigu\", \"scrutini\", \"leadership\", \"appeal\", \"laid\", \"ampli\", \"swift\", \"midwestern\", \"hamper\", \"hinder\", \"slip\", \"damag\", \"paramet\", \"aftermath\", \"rebuild\", \"entir\", \"henc\", \"apart\", \"contour\", \"geopolit\", \"2017\", \"alter\", \"innov\", \"disrupt\", \"postur\", \"subcommitte\", \"gasolin\", \"await\", \"cours\", \"ip\", \"temporarili\", \"unlik\", \"eme\", \"acknowledg\", \"far\", \"item\", \"prove\", \"symmetr\", \"summer\", \"experi\", \"deputi\", \"likelihood\", \"alreadi\", \"afe\", \"municip\", \"stimulus\"], \"Total\": [59.0, 157.0, 88.0, 105.0, 88.0, 81.0, 102.0, 65.0, 102.0, 163.0, 64.0, 86.0, 91.0, 53.0, 53.0, 98.0, 105.0, 31.0, 102.0, 80.0, 57.0, 75.0, 78.0, 32.0, 39.0, 46.0, 39.0, 41.0, 59.0, 42.0, 22.777718553462968, 18.00043024964588, 17.06126890383427, 16.108517526543533, 14.172193930725133, 12.275702254022054, 11.344099277196204, 9.439123307500465, 35.12036809680605, 8.486391593595577, 8.481593765756985, 98.36760033059723, 7.533523305228747, 7.533496855243538, 7.533363359916455, 7.532833177988207, 8.426787106367122, 6.580860111139938, 6.580810484023858, 6.580815326333806, 31.288955485476567, 5.628094329641332, 5.62809119754858, 5.628089597103048, 5.628036477177717, 5.628019574061758, 5.627974923776581, 5.627974923776581, 5.628009602388579, 5.62796311693087, 16.950190439279496, 8.459488191621144, 13.226326931512272, 105.55448420122882, 33.89312093549262, 17.971083314764883, 23.60043956769763, 12.218716237060004, 11.322662792734874, 80.53384584901093, 30.192629661502313, 19.855102054483297, 38.46466974311164, 23.644578458418735, 63.93773096973686, 37.8450904119043, 30.12936374173602, 81.51836182393737, 87.9135853659246, 55.693158849138186, 57.41699434000897, 30.027581862478584, 25.21526727758104, 88.36021017187808, 44.26909105893369, 47.12657158981975, 163.32183750737107, 64.07934233272532, 75.70807393517647, 105.41009828697554, 50.701564027704606, 79.54840498004867, 108.12613851491193, 38.83985211306869, 92.65254855114154, 41.606540171672606, 48.37569587615219, 51.03626761695483, 54.43264019334629, 39.99249724339725, 31.607655317084685, 19.496747888908796, 18.565156228391864, 12.043711715889668, 12.043105593294634, 10.180489197014, 9.248874218375246, 9.248851775135607, 11.103492828683054, 157.33055960219195, 8.317258813295803, 8.316835708284392, 8.307720876480166, 26.01220691682312, 7.383882843480155, 9.12351426971077, 6.454010822395717, 6.454010822395717, 6.454010822395717, 6.454010822395717, 6.454012126294145, 6.45399546546081, 6.453969973097823, 6.453969973091557, 15.76734336393107, 24.204555082716727, 5.522367969777419, 5.521586446349494, 5.522120995893465, 86.64405192076342, 27.948100788171036, 17.63280185968711, 78.68372491300725, 34.402305305053524, 17.63387767738886, 23.05627555416473, 15.808913712364273, 102.13193387159497, 12.975529409261183, 11.0682432718488, 43.03701704177957, 16.747759946332945, 74.66040458648105, 24.89769341836441, 37.077237649574286, 24.972494480540238, 38.66347439679181, 163.32183750737107, 77.41314838044131, 108.12613851491193, 43.300895965714524, 39.02252717358618, 63.77455256459614, 55.11453339080596, 27.034851024063762, 41.020596612953135, 64.50276702751752, 49.429900001743114, 45.94549636108097, 62.65042671788113, 91.0741848099395, 102.30078687785982, 40.12118801097013, 87.9135853659246, 56.92562550125798, 64.07934233272532, 53.9639495447831, 25.085256822260337, 53.96385568375835, 19.495797168959182, 39.30274628783339, 12.974747305470924, 24.757641556036724, 24.757641555991675, 21.961014344012664, 11.111568195254833, 8.316703599674792, 8.316843691075643, 8.316558518317159, 7.38484668213452, 42.08879089758285, 19.776045042300264, 6.45362713452611, 6.453854212058117, 32.06086188929974, 14.8379066609175, 27.939787183164803, 5.522151221889927, 5.522152072901184, 5.522146792708222, 5.521710257883805, 64.81411037127656, 13.278739664867613, 12.04310925509017, 4.590573449239515, 4.590539727643398, 22.343871255413127, 11.984991060290245, 29.667311295330727, 25.40672375533834, 21.38015740474434, 24.022114350210536, 38.452714543525516, 59.47413618096591, 21.02175706528839, 102.30078687785982, 88.59628543231368, 41.96280224217196, 91.0741848099395, 26.824012110011715, 44.059358249080574, 57.64900325059093, 102.9623531694272, 75.46393690193712, 65.03698794871401, 40.18765862514678, 75.96613503614434, 32.5613784188649, 44.600024919072744, 55.45928976067124, 55.97699708951112, 46.174587625314025, 44.187758545765064, 53.36502444060235, 31.929157064590378, 11.515099519342714, 9.739969638890944, 8.852417710961197, 7.964813698361454, 7.077732136660783, 6.189702458255515, 6.189709131357448, 6.190057648586524, 5.302145065999758, 5.302224181158544, 6.1991493730526726, 4.414537313283532, 4.4145373128366385, 4.414537308637282, 4.414567726326405, 4.414567723335506, 4.414575260888371, 4.4145752608883715, 4.414585397267458, 4.414585395238927, 4.414621598103099, 4.414700268843622, 4.41482828150973, 4.414937722102801, 4.415106902344844, 14.045569786603975, 6.809327670041035, 3.526969417331198, 3.5269694165615126, 8.032036368818906, 8.032036368821394, 65.96480668633096, 41.548549950862316, 26.166279260312667, 8.032036368823261, 57.0988701223798, 15.262297944252813, 25.294875918888884, 105.41009828697554, 17.067316335700546, 14.413818099980812, 59.68757720003097, 30.886815124342807, 9.871971804713247, 40.1642513950892, 54.072266682690405, 17.206624870762056, 28.395308313480015, 18.13899592634616, 24.40187951692254, 75.70807393517647, 56.978422409808154, 31.420404349859375, 59.370260830284046, 34.668196666847976, 42.19951953922057, 54.43264019334629, 92.65254855114154, 60.83554735613272, 54.18226054508526, 59.95936135710258, 77.41314838044131, 42.43279644522635, 47.96386993692577, 80.53384584901093, 56.46647205214729, 45.72513396706023, 8.27779662685432, 5.188825447721749, 10.883037354772194, 2.717648505048302, 2.717648505048302, 2.099854269930343, 2.099854269930343, 2.099854269930343, 2.099854269930343, 2.1005048217875935, 2.1183489754188356, 59.96950858359867, 3.6855204042107843, 1.4820600364382395, 1.4820600364382395, 1.4820600364382395, 1.4820600364382395, 1.4820600364382395, 1.4820600364382395, 1.4836052310909045, 1.483605231090905, 1.4836052310909054, 1.4836052310909063, 1.4836052310909067, 1.4836052310909071, 1.4836052310909071, 1.4836052310909076, 1.4836052310909082, 1.4838223092358722, 1.4838223094441625, 3.0552333721019242, 3.860286667064038, 7.880988652509122, 5.53351025902051, 14.9438624733784, 18.303104300317393, 3.8756895195812433, 3.8764876838573636, 22.949059815883952, 3.9208550931617907, 18.70953871215032, 88.59628543231368, 22.35068211788477, 5.6788005767728045, 88.36021017187808, 3.1684480997362967, 13.617316143187661, 81.51836182393737, 13.653617652336534, 39.88510460693635, 9.033451990557033, 36.30549989120314, 46.76483112055462, 102.9623531694272, 31.185166615788514, 38.56153539266087, 29.24155391219064, 49.82110654470302, 32.06086188929974, 46.14073655923858, 31.672017650846048, 44.187758545765064, 46.174587625314025, 55.126274112022244, 64.81411037127656, 51.193509969263694, 59.370260830284046], \"loglift\": [30.0, 29.0, 28.0, 27.0, 26.0, 25.0, 24.0, 23.0, 22.0, 21.0, 20.0, 19.0, 18.0, 17.0, 16.0, 15.0, 14.0, 13.0, 12.0, 11.0, 10.0, 9.0, 8.0, 7.0, 6.0, 5.0, 4.0, 3.0, 2.0, 1.0, 1.0839, 1.0742, 1.0737, 1.0713, 1.0609, 1.0537, 1.0526, 1.0399, 1.038, 1.0313, 1.0227, 1.0204, 1.0201, 1.0199, 1.0198, 1.018, 1.0144, 1.006, 1.0058, 1.0058, 0.9959, 0.9865, 0.9865, 0.9864, 0.9863, 0.9862, 0.9861, 0.9861, 0.9861, 0.9861, 0.9759, 0.9826, 0.977, 0.9311, 0.9494, 0.9607, 0.9473, 0.9598, 0.9574, 0.8517, 0.8937, 0.922, 0.8677, 0.9054, 0.8223, 0.8608, 0.8742, 0.7612, 0.7528, 0.7842, 0.7742, 0.8526, 0.8722, 0.6452, 0.7664, 0.7067, 0.3474, 0.5931, 0.4867, 0.3548, 0.6121, 0.43, 0.2991, 0.6754, 0.2166, 0.6103, 0.5125, 0.4623, 0.3338, 1.3752, 1.3705, 1.3569, 1.3549, 1.3335, 1.3331, 1.3233, 1.3161, 1.3159, 1.3121, 1.308, 1.3073, 1.3071, 1.2999, 1.2948, 1.2899, 1.2847, 1.2813, 1.2813, 1.2813, 1.2813, 1.2813, 1.2812, 1.2811, 1.2811, 1.2764, 1.2636, 1.2605, 1.26, 1.2594, 1.2298, 1.2302, 1.2328, 1.1873, 1.1873, 1.2227, 1.1996, 1.2257, 1.076, 1.2262, 1.2389, 1.1221, 1.202, 1.0435, 1.1331, 1.059, 1.1187, 1.0224, 0.734, 0.8303, 0.7383, 0.9583, 0.9814, 0.8292, 0.8458, 1.0622, 0.9043, 0.6434, 0.7539, 0.7604, 0.4752, 0.2095, 0.0844, 0.784, 0.1665, 0.5015, 0.3932, 1.3914, 1.3774, 1.3704, 1.3694, 1.3517, 1.3511, 1.3499, 1.3499, 1.3425, 1.3418, 1.3197, 1.3197, 1.3195, 1.3084, 1.3032, 1.2988, 1.2936, 1.2927, 1.2909, 1.2756, 1.2752, 1.2738, 1.2738, 1.2737, 1.272, 1.2574, 1.2492, 1.2462, 1.245, 1.2448, 1.233, 1.2356, 1.2196, 1.22, 1.226, 1.2075, 1.1739, 1.127, 1.2045, 1.055, 1.039, 1.1204, 0.9963, 1.1487, 1.0628, 1.0111, 0.9031, 0.9461, 0.9022, 1.0293, 0.8013, 1.0603, 0.8797, 0.7033, 0.6942, 0.7689, 0.761, 0.5961, 1.8863, 1.8466, 1.8349, 1.8273, 1.8179, 1.8045, 1.7904, 1.7904, 1.7892, 1.7693, 1.769, 1.7652, 1.739, 1.739, 1.739, 1.7389, 1.7389, 1.7388, 1.7388, 1.7388, 1.7388, 1.7387, 1.7383, 1.7378, 1.7363, 1.7359, 1.718, 1.6941, 1.6915, 1.6915, 1.6751, 1.6751, 1.5861, 1.5619, 1.5504, 1.6751, 1.4405, 1.5882, 1.4901, 1.268, 1.5204, 1.5407, 1.2853, 1.3987, 1.6001, 1.3461, 1.2204, 1.4754, 1.3341, 1.4477, 1.3504, 1.0025, 1.0866, 1.2505, 1.0358, 1.1699, 1.0919, 0.9378, 0.6323, 0.8328, 0.8407, 0.7755, 0.606, 0.8955, 0.8137, 0.4145, 0.6014, 0.7634, 3.4305, 3.3702, 3.2105, 3.206, 3.206, 3.0893, 3.0893, 3.0893, 3.0893, 3.088, 3.0533, 2.9628, 2.8872, 2.8316, 2.8316, 2.8316, 2.8316, 2.8316, 2.8316, 2.8265, 2.8265, 2.8265, 2.8265, 2.8265, 2.8265, 2.8265, 2.8265, 2.8265, 2.826, 2.826, 2.7105, 2.6192, 2.4089, 2.4951, 2.1371, 2.0391, 2.4755, 2.4742, 1.7933, 2.4625, 1.8676, 1.2345, 1.7433, 2.2879, 1.1146, 2.5067, 1.8643, 1.0573, 1.8304, 1.2535, 2.0335, 1.2429, 1.0585, 0.581, 1.2485, 1.1035, 1.2639, 0.8186, 1.1203, 0.8314, 1.1076, 0.7888, 0.7432, 0.5819, 0.3985, 0.5475, 0.3941], \"logprob\": [30.0, 29.0, 28.0, 27.0, 26.0, 25.0, 24.0, 23.0, 22.0, 21.0, 20.0, 19.0, 18.0, 17.0, 16.0, 15.0, 14.0, 13.0, 12.0, 11.0, 10.0, 9.0, 8.0, 7.0, 6.0, 5.0, 4.0, 3.0, 2.0, 1.0, -5.9524, -6.1975, -6.2516, -6.3115, -6.4499, -6.6008, -6.6808, -6.8774, -5.5654, -6.9924, -7.0015, -4.553, -7.1226, -7.1228, -7.1229, -7.1249, -7.0163, -7.272, -7.2721, -7.2722, -5.7229, -7.4479, -7.4479, -7.4479, -7.4481, -7.4482, -7.4482, -7.4482, -7.4483, -7.4483, -6.3559, -7.0442, -6.6029, -4.5718, -5.6895, -6.3126, -6.0536, -6.6994, -6.7779, -4.9218, -5.8609, -6.2516, -5.6447, -6.0936, -5.182, -5.6678, -5.8825, -5.0001, -4.9329, -5.3581, -5.3376, -5.9074, -6.0625, -5.0355, -5.6054, -5.6026, -4.719, -5.4089, -5.3485, -5.1495, -5.6241, -5.3558, -5.1797, -5.8273, -5.4166, -5.8236, -5.7706, -5.7672, -5.8313, -5.0982, -5.3382, -5.835, -5.8859, -6.34, -6.3405, -6.5183, -6.6215, -6.6217, -6.4428, -3.7958, -6.7365, -6.7368, -6.745, -5.6087, -6.8729, -6.6665, -7.0161, -7.0161, -7.0161, -7.0161, -7.0161, -7.0162, -7.0163, -7.0163, -6.1277, -5.712, -7.1928, -7.1934, -7.1939, -4.4705, -5.6016, -6.0595, -4.6094, -5.4367, -6.0696, -5.8246, -6.1758, -4.4599, -6.3728, -6.5192, -5.2779, -6.1418, -4.8057, -5.8142, -5.4901, -5.8256, -5.4848, -4.3324, -4.9826, -4.7405, -5.4357, -5.5166, -5.1775, -5.3069, -5.8028, -5.5438, -5.352, -5.5077, -5.5743, -5.5493, -5.4409, -5.4498, -5.6862, -5.5193, -5.6189, -5.6088, -4.7824, -5.5624, -4.8034, -5.8225, -5.1391, -6.248, -5.6031, -5.6031, -5.7304, -6.4123, -6.7241, -6.7241, -6.7244, -6.8543, -5.1191, -5.8789, -7.0038, -7.0047, -5.4036, -6.1893, -5.5569, -7.1795, -7.1795, -7.1796, -7.1814, -4.7332, -6.3268, -6.4274, -7.3931, -7.3933, -5.8225, -6.4428, -5.5525, -5.7071, -5.8736, -5.7757, -5.3387, -4.9496, -5.912, -4.4792, -4.639, -5.3049, -4.6541, -5.7241, -5.3138, -5.0967, -4.6247, -4.8923, -5.085, -5.4393, -5.0305, -5.6186, -5.4847, -5.4431, -5.443, -5.5608, -5.6127, -5.5889, -4.8122, -5.8719, -6.0509, -6.1542, -6.2692, -6.4006, -6.5488, -6.5488, -6.55, -6.7247, -6.725, -6.5725, -6.9382, -6.9382, -6.9382, -6.9384, -6.9384, -6.9384, -6.9384, -6.9384, -6.9384, -6.9385, -6.9389, -6.9393, -6.9408, -6.9411, -5.8018, -6.5498, -7.2101, -7.2101, -6.4036, -6.4036, -4.3869, -4.8733, -5.3473, -6.4036, -4.6768, -5.8485, -5.4414, -4.2362, -5.8046, -5.9533, -4.7877, -5.3331, -6.2723, -5.1231, -4.9514, -5.8414, -5.4818, -5.8163, -5.6171, -4.8327, -5.0328, -5.4641, -5.0425, -5.4464, -5.3278, -5.2274, -5.001, -5.2211, -5.3291, -5.293, -5.207, -5.5187, -5.4779, -5.3589, -5.527, -5.576, -4.618, -5.1454, -4.5645, -5.9563, -5.9563, -6.331, -6.331, -6.331, -6.331, -6.3319, -6.3581, -3.1055, -5.9705, -6.9371, -6.9371, -6.9371, -6.9371, -6.9371, -6.9371, -6.9412, -6.9412, -6.9412, -6.9412, -6.9412, -6.9412, -6.9412, -6.9412, -6.9412, -6.9415, -6.9415, -6.3348, -6.1922, -5.6888, -5.9562, -5.3207, -5.2159, -6.3319, -6.333, -5.2355, -6.3333, -5.3655, -4.4436, -5.312, -6.1375, -4.5661, -6.5022, -5.6865, -4.704, -5.7177, -5.2226, -5.9276, -5.3273, -5.2584, -4.9468, -5.4737, -5.4063, -5.5227, -5.435, -5.5742, -5.499, -5.5991, -5.5848, -5.5864, -5.5706, -5.5921, -5.679, -5.6842]}, \"token.table\": {\"Topic\": [2, 3, 4, 2, 3, 4, 4, 2, 3, 4, 4, 1, 2, 3, 4, 1, 4, 1, 4, 1, 2, 4, 1, 2, 4, 5, 1, 2, 1, 2, 3, 1, 2, 3, 4, 5, 2, 3, 5, 2, 3, 5, 3, 3, 5, 3, 5, 1, 4, 1, 2, 4, 2, 4, 1, 1, 2, 3, 4, 5, 1, 1, 4, 1, 4, 4, 1, 2, 3, 5, 4, 1, 2, 4, 2, 2, 1, 3, 5, 3, 5, 1, 3, 5, 2, 3, 5, 1, 2, 3, 2, 1, 2, 3, 4, 5, 1, 2, 3, 5, 5, 1, 2, 3, 4, 5, 5, 1, 2, 4, 5, 5, 1, 2, 3, 4, 1, 2, 3, 4, 2, 1, 2, 4, 1, 1, 2, 3, 5, 2, 4, 2, 1, 2, 4, 3, 3, 2, 3, 4, 1, 2, 3, 4, 5, 1, 2, 2, 3, 4, 4, 1, 2, 3, 4, 5, 1, 2, 4, 1, 2, 1, 5, 5, 1, 2, 3, 4, 1, 2, 3, 4, 1, 2, 3, 4, 5, 2, 1, 2, 3, 4, 5, 2, 3, 1, 2, 3, 4, 5, 2, 3, 5, 2, 2, 4, 1, 2, 3, 1, 3, 4, 5, 4, 3, 1, 2, 3, 4, 1, 2, 3, 5, 5, 5, 3, 1, 2, 3, 1, 2, 1, 2, 3, 4, 5, 1, 2, 3, 1, 3, 4, 4, 1, 4, 1, 3, 1, 2, 3, 4, 5, 1, 2, 4, 1, 3, 4, 1, 3, 1, 2, 1, 2, 3, 5, 1, 3, 5, 4, 5, 1, 2, 3, 4, 5, 1, 2, 3, 4, 5, 1, 2, 3, 4, 2, 2, 3, 4, 1, 2, 3, 4, 5, 1, 2, 4, 1, 2, 3, 4, 1, 1, 2, 3, 4, 5, 3, 2, 3, 1, 1, 2, 3, 4, 1, 2, 3, 4, 5, 1, 2, 3, 4, 5, 1, 2, 3, 4, 5, 1, 2, 3, 4, 5, 1, 2, 3, 5, 1, 2, 5, 1, 2, 3, 4, 4, 1, 2, 4, 1, 2, 3, 5, 5, 5, 5, 5, 1, 2, 3, 5, 4, 5, 3, 5, 1, 5, 3, 5, 1, 3, 4, 5, 1, 4, 1, 2, 5, 5, 3, 5, 4, 2, 1, 3, 1, 3, 4, 5, 1, 1, 5, 1, 2, 3, 5, 2, 5, 5, 5, 1, 2, 3, 4, 5, 2, 1, 2, 3, 5, 1, 2, 3, 4, 1, 1, 2, 3, 4, 5, 5, 3, 1, 5, 1, 3, 3, 3, 1, 2, 3, 5, 4, 1, 2, 3, 5, 1, 1, 2, 3, 5, 4, 1, 5, 1, 2, 4, 1, 4, 1, 4, 1, 2, 3, 4, 1, 2, 5, 1, 4, 1, 2, 3, 4, 1, 2, 3, 5, 1, 1, 4, 2, 1, 2, 3, 4, 1, 2, 1, 2, 3, 5, 1, 5, 2, 1, 2, 3, 4, 4, 4, 5, 2, 3, 3, 1, 2, 3, 5, 1, 2, 4, 2, 1, 2, 3, 4, 5, 1, 2, 3, 5, 3, 2, 3, 2, 1, 2, 3, 4, 5, 1, 4, 5, 1, 3, 4, 5, 5, 1, 2, 3, 1, 3, 1, 2, 3, 4, 3, 4, 4, 5, 1, 2, 3, 4, 1, 2, 3, 3, 2, 3, 4, 2, 3, 4, 1, 1, 2, 3, 4, 1, 2, 3, 4, 5, 1, 2, 3, 4, 1, 2, 3, 1, 2, 1, 2, 3, 4, 5, 1, 4, 1, 2, 4, 4, 1, 2, 3, 4, 1, 3, 4, 5, 1, 2, 4, 3, 5, 1, 2, 3, 3, 1, 2, 3, 4, 2, 3, 4, 5, 1, 4, 1, 1, 1, 2, 3, 4, 3, 4, 1, 2, 4, 1, 3, 4, 5, 2, 1, 3, 5, 1, 2, 3, 4, 1, 2, 4, 5, 2, 2, 1, 2, 4, 5, 2, 5, 3, 5, 1, 2, 3, 4, 4, 4, 3, 1, 2, 4, 1, 2, 3, 4, 5, 1, 2, 3, 4, 5, 1, 1, 2, 3, 4, 1, 4, 2, 2, 3, 2, 3, 1, 2, 3, 1, 2, 3, 5, 1, 4, 1, 2, 3, 4, 1, 3, 5, 2, 3, 4, 1, 2, 3, 4, 5, 1, 4, 2, 3, 4, 5, 1, 2, 3, 4, 2, 3, 4, 4, 2, 3, 5, 1, 2, 3, 4, 5, 1, 2, 3], \"Freq\": [0.08303503512411776, 0.8303503512411776, 0.9060972229102762, 0.7631228998098957, 0.040164363147889244, 0.16065745259155698, 0.8788655033375182, 0.17577455886985302, 0.11718303924656868, 0.7030982354794121, 0.8065622715488512, 0.24068228642940775, 0.024068228642940778, 0.024068228642940778, 0.6979786306452825, 0.2728727772309217, 0.7276607392824578, 0.46485109867366886, 0.531258398484193, 0.8336926722339623, 0.0378951214651801, 0.13263292512813035, 0.9149354024854209, 0.04066379566601871, 0.04066379566601871, 0.010165948916504677, 0.6938631810555603, 0.29574496241712406, 0.4439259614674967, 0.5179136217120794, 0.03699383012229139, 0.08812131190343678, 0.7245530089838136, 0.16645136692871393, 0.009791256878159642, 0.009791256878159642, 0.2737026845495343, 0.7038069031273738, 0.01955019175353816, 0.203168788760921, 0.688516450800899, 0.1015843943804605, 0.9821371572519327, 0.9414100411465081, 0.0254435146255813, 0.8283918713387675, 0.07530835193988795, 0.8184165837053714, 0.08184165837053714, 0.9696671133786788, 0.8240706507590281, 0.17348855805453223, 0.40980449858647433, 0.573726298021064, 0.9311843858556864, 0.7931702559338742, 0.11897553839008114, 0.03965851279669371, 0.03965851279669371, 0.03965851279669371, 0.937796601775864, 0.12450142829060022, 0.7470085697436013, 0.12450142829056164, 0.7470085697433698, 0.9060972238639331, 0.32066527407736123, 0.3847983288928335, 0.19239916444641675, 0.09619958222320837, 0.9060894341158102, 0.3641520617959017, 0.5259974225940802, 0.10115335049886158, 0.9296566804407578, 0.9054086991963932, 0.09257243470025316, 0.8640093905356961, 0.04628621735012658, 0.9290060989024961, 0.04039156951749983, 0.2676684161893059, 0.4684197283312853, 0.2676684161893059, 0.14270928879459222, 0.8086859698360225, 0.047569762931530736, 0.9291998361907807, 0.018530921990827516, 0.9636079435230308, 0.9629596515030555, 0.3083828949777062, 0.25396238409928745, 0.16326153263525622, 0.21768204351367496, 0.05442051087841874, 0.08948272761660468, 0.13422409142490704, 0.5816377295079305, 0.17896545523320936, 0.6740337517310403, 0.09078661512468743, 0.045393307562343714, 0.7035962672163275, 0.158876576468203, 0.022696653781171857, 0.6740337517310393, 0.3485981588867917, 0.2178738493042448, 0.26144861916509377, 0.17429907944339584, 0.6740337517310395, 0.9396256869813708, 0.028473505666102145, 0.028473505666102145, 0.9430145606657809, 0.410134427970161, 0.14030914641084455, 0.1726881801979625, 0.2806182928216891, 0.9296544683779769, 0.2913864690732336, 0.09712882302441121, 0.6151492124879376, 0.8884135517249214, 0.07324066232577348, 0.21972198697732043, 0.5126846362804143, 0.21972198697732043, 0.9745215001117502, 0.9060637770200767, 0.9730937654547979, 0.15501242684287775, 0.5683788984238851, 0.2712717469750361, 0.9567372648424594, 0.929677027533384, 0.8138989451932729, 0.17440691682712992, 0.8505886059738087, 0.39365658311612506, 0.02186981017311806, 0.24056791190429866, 0.3280471525967709, 0.02186981017311806, 0.8948844589266265, 0.09588047774213855, 0.8506872656633012, 0.11342496875510683, 0.9060150452348467, 0.9693519261168202, 0.1974564059743604, 0.09214632278803486, 0.5528779367282092, 0.13163760398290694, 0.026327520796581388, 0.4592832519458782, 0.16534197070051615, 0.3857979316345377, 0.08262907511272954, 0.8676052886836602, 0.2713321024779782, 0.5426642049559564, 0.6747364988015262, 0.4212120831879804, 0.0702020138646634, 0.0702020138646634, 0.43876258665414625, 0.08091217658536774, 0.7282095892683097, 0.10788290211382366, 0.10788290211382366, 0.12730580916339806, 0.12730580916339806, 0.1909587137450971, 0.5092232366535923, 0.031826452290849516, 0.948010707697087, 0.14312242646888515, 0.8587345588133108, 0.25504640601078593, 0.25504640601078593, 0.25504640601078593, 0.9226437447903835, 0.07688697873253196, 0.22564814831737523, 0.4262242801550421, 0.20057613183766687, 0.07521604943912508, 0.10028806591883344, 0.307441675799048, 0.669783650847926, 0.021960119699931998, 0.8768550981017552, 0.813137169011345, 0.0903485743345939, 0.1191531483322884, 0.1191531483322884, 0.7625801493266458, 0.8884119776419834, 0.2537752670616074, 0.38066290059241115, 0.38066290059241115, 0.9060873536336893, 0.9055165458674845, 0.5581315061415005, 0.16537229811600015, 0.06201461179350006, 0.22738690990950022, 0.9444218701569335, 0.4073526377527722, 0.5205061482396534, 0.0678921062921287, 0.47622352385109673, 0.6740337517310405, 0.8713572340770139, 0.8035668740473986, 0.04229299337091571, 0.12687898011274715, 0.9072813686020041, 0.07560678071683367, 0.6224521183575065, 0.06790386745718252, 0.1923942911286838, 0.03395193372859126, 0.09053848994291003, 0.20154174152643825, 0.480599537486122, 0.31006421773298193, 0.8474418428788242, 0.08474418428788241, 0.042372092143941206, 0.9059803281038603, 0.9426857000138148, 0.8505886061594314, 0.8058382150892641, 0.15109466532923702, 0.7140742992781602, 0.08708223161928784, 0.10449867794314541, 0.052249338971572704, 0.034832892647715136, 0.6578029963609023, 0.29707232093718167, 0.042438902991025956, 0.7659624443065792, 0.09990814490955381, 0.09990814490955381, 0.13426500563429475, 0.8503450356838668, 0.1265109062133589, 0.8223208903868329, 0.20395804246474397, 0.13597202830982932, 0.6021618396578156, 0.048561438682081896, 0.07871931931324949, 0.8265528527891196, 0.039359659656624746, 0.5160372083200551, 0.25801860416002753, 0.07070003043217994, 0.3535001521608997, 0.21210009129653984, 0.3535001521608997, 0.023566676810726647, 0.2679672147474069, 0.12505136688212323, 0.5002054675284929, 0.07145792393264185, 0.03572896196632092, 0.3719021082210752, 0.21251549041204298, 0.15938661780903224, 0.26564436301505373, 0.9807750587321726, 0.04162830904146603, 0.8325661808293204, 0.12488492712439807, 0.1578680605422824, 0.1578680605422824, 0.2525888968676518, 0.3473097331930212, 0.09472083632536943, 0.1581347942890287, 0.1581347942890287, 0.672072875728372, 0.7507304258688733, 0.07820108602800763, 0.031280434411203054, 0.12512173764481221, 0.8884190259761879, 0.3889886605203702, 0.1296628868401234, 0.3371235057843208, 0.05186515473604936, 0.07779773210407404, 0.96193635653258, 0.8506353664477233, 0.11341804885969643, 0.9658561698513599, 0.3935161694411653, 0.11243319126890437, 0.4497327650756175, 0.056216595634452186, 0.26806248051213744, 0.1507851452880773, 0.01675390503200859, 0.5361249610242749, 0.01675390503200859, 0.07109085678598251, 0.09478780904797668, 0.3554542839299126, 0.45024209297788925, 0.02369695226199417, 0.049766522072239666, 0.19906608828895866, 0.6967313090113553, 0.049766522072239666, 0.024883261036119833, 0.6992289678625792, 0.1226717487478209, 0.07360304924869254, 0.02453434974956418, 0.08587022412347463, 0.10689734422480246, 0.3741407047868086, 0.3206920326744074, 0.21379468844960492, 0.643668774206998, 0.308961011619359, 0.051493501936559834, 0.16228119831390841, 0.16228119831390841, 0.48684359494172524, 0.16228119831390841, 0.9060972230020023, 0.7799365027792156, 0.02599788342597385, 0.18198518398181696, 0.4653388742125189, 0.5204447935271593, 0.012245759847697865, 0.006122879923848933, 0.47622352385109673, 0.6739351427965782, 0.47622352385109673, 0.966440752367229, 0.600867072744996, 0.1922774632783987, 0.16824278036859885, 0.048069365819599676, 0.5159309568629576, 0.2579654784314788, 0.9101921016815361, 0.05056622787119645, 0.3273072391560141, 0.3273072391560141, 0.9290060989041865, 0.04039156951757333, 0.06670056324413468, 0.33350281622067335, 0.01667514081103367, 0.5669547875751447, 0.2025937714940723, 0.7090782002292529, 0.9291833705522545, 0.9619042963697368, 0.6740337517310407, 0.47622352385109673, 0.5282805690114346, 0.3521870460076231, 0.9060799235247579, 0.9054491931122587, 0.9292652358816061, 0.90544423705383, 0.9117349250204133, 0.3320989587519809, 0.4427986116693079, 0.22139930583465395, 0.9534783800152784, 0.8884006716482923, 0.7708873694635989, 0.10259372702998923, 0.20518745405997846, 0.6155623621799353, 0.10259372702998923, 0.9618553635978432, 0.6747364988015262, 0.6740337517310395, 0.7359303442975799, 0.20090970686644374, 0.7098809642614345, 0.053575921831051664, 0.040181941373288746, 0.6740337517310397, 0.9751829140011727, 0.1299416044315825, 0.28154014293509544, 0.51976641772633, 0.06497080221579125, 0.24518873963694643, 0.07005392561055612, 0.05254044420791709, 0.6304853304950051, 0.8884190259761879, 0.01681403151375303, 0.08407015756876515, 0.7566314181188863, 0.1176982205962712, 0.03362806302750606, 0.7359303442975799, 0.961919575961902, 0.8884001772441225, 0.6739351428911812, 0.8346742228764881, 0.11128989638353175, 0.8999629777073658, 0.9619033731010682, 0.5290355517892592, 0.13715736527869682, 0.3135025492084499, 0.039187818651056236, 0.9060909811975266, 0.3125396170257971, 0.2539384388334601, 0.39067452128224633, 0.058601178192336956, 0.9117411297032431, 0.02375929502069469, 0.02375929502069469, 0.9028532107863981, 0.04751859004138938, 0.9240275209959277, 0.9291801082159727, 0.4720657510183288, 0.9775408161328023, 0.9133396962239918, 0.9693508810621859, 0.8274732278642198, 0.11821046112345998, 0.1245014282905327, 0.7470085697431963, 0.5283452334852582, 0.026417261674262907, 0.026417261674262907, 0.4094675559510751, 0.1807171132229925, 0.361434226445985, 0.361434226445985, 0.888420889781289, 0.8077469199566712, 0.31620205911663146, 0.40403596442680684, 0.19323459168238588, 0.0878339053101754, 0.7662816942532116, 0.18496454688870623, 0.026423506698386605, 0.4760760316412745, 0.9432189540011525, 0.33077905879482794, 0.6064282744571845, 0.9296603524667588, 0.6114209806833735, 0.21695583185539058, 0.07889302976559658, 0.09861628720699572, 0.8831844755119305, 0.08831844755119304, 0.023235811139726944, 0.766781767610989, 0.1626506779780886, 0.04647162227945389, 0.315611923731125, 0.315611923731125, 0.9695582293281451, 0.718221067480696, 0.0718221067480696, 0.179555266870174, 0.0359110533740348, 0.9060909805836439, 0.7342868844450643, 0.14685737688901285, 0.8879111513500749, 0.06342222509643393, 0.9054449632889701, 0.29147965777123774, 0.08968604854499623, 0.5829593155424755, 0.022421512136249058, 0.3544334521454507, 0.29188637235507703, 0.33358442554865947, 0.9296544683779769, 0.07257613834152986, 0.5806091067322389, 0.18144034585382465, 0.14515227668305972, 0.018144034585382465, 0.2609335862168272, 0.40143628648742646, 0.28100540054119855, 0.06021544297311397, 0.9248735036974545, 0.8477496102894141, 0.07706814638994675, 0.9296544683779769, 0.06928263106554164, 0.6466378899450553, 0.23094210355180547, 0.02309421035518055, 0.02309421035518055, 0.07119682684242219, 0.8543619221090663, 0.07119682684242219, 0.21854216281391328, 0.32781324422086994, 0.21854216281391328, 0.21854216281391328, 0.6747364988015262, 0.04677234040279311, 0.09354468080558621, 0.8419021272502759, 0.10737375987629778, 0.8947813323024815, 0.7948959818694314, 0.03312066591122631, 0.09936199773367893, 0.06624133182245262, 0.929709739179188, 0.9430004898260436, 0.8477291714561483, 0.6747364988015262, 0.15375734055638815, 0.666281809077682, 0.10250489370425876, 0.07687867027819408, 0.36064541537478756, 0.5644884762387979, 0.0784011772553886, 0.9478869773876898, 0.9216264174400092, 0.06991648684027656, 0.006356044258206959, 0.698333515578734, 0.07759261284208156, 0.20691363424555081, 0.888400924280533, 0.20191416551798505, 0.17306928472970148, 0.17306928472970148, 0.49036297340082086, 0.4253566830288391, 0.018493768827340832, 0.036987537654681664, 0.4993317583382024, 0.67403375173104, 0.7002628528950577, 0.20330211858243613, 0.022589124286937348, 0.06776737286081204, 0.14954691766254408, 0.5483386980959949, 0.29909383532508815, 0.9493535197958602, 0.97309140415373, 0.17557741545055552, 0.3990395805694444, 0.23942374834166663, 0.17557741545055552, 0.015961583222777777, 0.8849458095314242, 0.11799277460418989, 0.08008811460779361, 0.7608370887740393, 0.12013217191169041, 0.9060894341158104, 0.12284492224329616, 0.1535561528041202, 0.706358302898953, 0.03071123056082404, 0.13104186586483998, 0.13104186586483998, 0.7207302622566198, 0.6747364988015262, 0.11941895551458008, 0.8359326886020606, 0.9037079203904127, 0.5180962380498831, 0.5180962380498831, 0.07950817630674108, 0.29152997979138395, 0.6360654104539286, 0.9054440975170646, 0.3287551582780957, 0.14793982122514307, 0.18081533705295263, 0.3451929161920005, 0.10565125642871852, 0.28173668380991607, 0.5634733676198321, 0.03521708547623951, 0.7698626502482055, 0.22350851136238226, 0.888409309405781, 0.9172891694500573, 0.3700036205158985, 0.5223580524930332, 0.10882459426938192, 0.9060873540500425, 0.8343769260815641, 0.08343769260815641, 0.20813361034464517, 0.06937787011488172, 0.6937787011488172, 0.3368689933361088, 0.20212139600166532, 0.42108624167013603, 0.05053034900041633, 0.9296542805606974, 0.09188611298494732, 0.09188611298494732, 0.7350889038795786, 0.5028384919852547, 0.2639902082922587, 0.11313866069668231, 0.11313866069668231, 0.29374363919729374, 0.4406154587959406, 0.07343590979932343, 0.2203077293979703, 0.9296544683779769, 0.9055368504292217, 0.47680209811464364, 0.32509233962362066, 0.13003693584944825, 0.06501846792472413, 0.9133856640868935, 0.674033751731039, 0.9045296442787991, 0.09357203216677233, 0.7965651118863337, 0.0663804259905278, 0.0663804259905278, 0.09957063898579172, 0.9552674713338374, 0.9708994176479273, 0.8713508332303559, 0.1910856316352046, 0.07643425265408184, 0.6879082738867366, 0.19280825277098324, 0.5508807222028093, 0.05508807222028093, 0.0826321083304214, 0.11017614444056185, 0.05083643414724457, 0.8133829463559131, 0.07625465122086685, 0.05083643414724457, 0.012709108536811143, 0.9117418005830917, 0.5930148253190389, 0.3745356791488667, 0.015605653297869445, 0.015605653297869445, 0.4232619657907667, 0.5726485419522138, 0.9006175042656432, 0.06739495151522709, 0.8761343696979521, 0.9822710683621237, 0.9745690230226348, 0.03462441948979395, 0.8540690140815842, 0.10387325846938186, 0.34213744851881855, 0.4490554011809494, 0.12830154319455697, 0.08553436212970464, 0.34870290048546104, 0.6392886508900119, 0.3168812937623013, 0.23349147961432729, 0.11674573980716364, 0.3168812937623013, 0.1560357980243101, 0.8061849564589356, 0.05201193267477004, 0.11184009266385206, 0.7828806486469644, 0.11184009266385206, 0.07313399237720218, 0.6094499364766848, 0.17064598221347174, 0.09751198983626957, 0.04875599491813479, 0.855630853682507, 0.11801804878379407, 0.29488801265311976, 0.6765077937336277, 0.01734635368547763, 0.6747364988015262, 0.21526212147216797, 0.07687932909720284, 0.5996587669581822, 0.09225519491664341, 0.10112139823308368, 0.8426783186090306, 0.06741426548872245, 0.9060375047321496, 0.9296603524676613, 0.9562399837749448, 0.04553523732261642, 0.42449317855355284, 0.11073735092701378, 0.11073735092701378, 0.35066827793554367, 0.018456225154502296, 0.14795716819151672, 0.7027965489097044, 0.11096787614363754], \"Term\": [\"000\", \"000\", \"100\", \"17\", \"17\", \"17\", \"175\", \"200\", \"200\", \"200\", \"2006\", \"2008\", \"2008\", \"2008\", \"2008\", \"2009\", \"2009\", \"2010\", \"2010\", \"2011\", \"2011\", \"2011\", \"2012\", \"2012\", \"2012\", \"2012\", \"2013\", \"2013\", \"2014\", \"2014\", \"2014\", \"2015\", \"2015\", \"2015\", \"2015\", \"2015\", \"2016\", \"2016\", \"2016\", \"2017\", \"2017\", \"2017\", \"2018\", \"2019\", \"2019\", \"2020\", \"2020\", \"24\", \"24\", \"267\", \"29\", \"29\", \"300\", \"300\", \"400\", \"45\", \"45\", \"45\", \"45\", \"45\", \"600\", \"a2\", \"a2\", \"aa\", \"aa\", \"aaa\", \"acknowledg\", \"acknowledg\", \"acknowledg\", \"acknowledg\", \"actionin\", \"add\", \"add\", \"add\", \"administ\", \"aerospac\", \"afe\", \"afe\", \"afe\", \"african\", \"african\", \"aftermath\", \"aftermath\", \"aftermath\", \"age\", \"age\", \"age\", \"aid\", \"al\", \"al\", \"allot\", \"alreadi\", \"alreadi\", \"alreadi\", \"alreadi\", \"alreadi\", \"alter\", \"alter\", \"alter\", \"alter\", \"ambigu\", \"american\", \"american\", \"american\", \"american\", \"american\", \"ampli\", \"apart\", \"apart\", \"apart\", \"apart\", \"appeal\", \"approxim\", \"approxim\", \"approxim\", \"arm\", \"arrang\", \"arrang\", \"arrang\", \"arrang\", \"ascend\", \"ask\", \"ask\", \"ask\", \"attitud\", \"await\", \"await\", \"await\", \"await\", \"award\", \"baselin\", \"bea\", \"bid\", \"bid\", \"bid\", \"brexit\", \"buoyant\", \"cap\", \"cap\", \"capabl\", \"caus\", \"caus\", \"caus\", \"caus\", \"caus\", \"chain\", \"chain\", \"chair\", \"chair\", \"cliff\", \"clunker\", \"cmbs\", \"cmbs\", \"cmbs\", \"cmbs\", \"cmbs\", \"collater\", \"collater\", \"collater\", \"commenc\", \"commenc\", \"communiti\", \"communiti\", \"compet\", \"complet\", \"complet\", \"complet\", \"complet\", \"conclud\", \"conclud\", \"conclud\", \"conclud\", \"consecut\", \"consecut\", \"consecut\", \"consecut\", \"consecut\", \"consult\", \"conting\", \"conting\", \"contour\", \"contour\", \"contour\", \"control\", \"control\", \"cours\", \"cours\", \"cours\", \"cours\", \"cours\", \"cpi\", \"cpi\", \"cpi\", \"creditor\", \"criteria\", \"criteria\", \"curv\", \"curv\", \"curv\", \"cyprus\", \"damag\", \"damag\", \"damag\", \"dampen\", \"deadlin\", \"deceler\", \"deceler\", \"deceler\", \"deceler\", \"deleverag\", \"deputi\", \"deputi\", \"deputi\", \"devast\", \"die\", \"differenti\", \"diffus\", \"diffus\", \"diffus\", \"disinfl\", \"disinfl\", \"disrupt\", \"disrupt\", \"disrupt\", \"disrupt\", \"disrupt\", \"dissip\", \"dissip\", \"dissip\", \"downbeat\", \"downbeat\", \"downbeat\", \"drive\", \"dsge\", \"dubai\", \"earthquak\", \"earthquak\", \"ecb\", \"ecb\", \"ecb\", \"ecb\", \"ecb\", \"efficaci\", \"efficaci\", \"efficaci\", \"effort\", \"effort\", \"effort\", \"elect\", \"elect\", \"elimin\", \"elimin\", \"eme\", \"eme\", \"eme\", \"eme\", \"enact\", \"enact\", \"enact\", \"entir\", \"entir\", \"evalu\", \"evalu\", \"evalu\", \"evalu\", \"evalu\", \"exceed\", \"exceed\", \"exceed\", \"exceed\", \"exceed\", \"excess\", \"excess\", \"excess\", \"excess\", \"exercis\", \"expansionari\", \"expansionari\", \"expansionari\", \"experi\", \"experi\", \"experi\", \"experi\", \"experi\", \"expir\", \"expir\", \"expir\", \"extens\", \"extens\", \"extens\", \"extens\", \"fanni\", \"far\", \"far\", \"far\", \"far\", \"far\", \"flatter\", \"floor\", \"floor\", \"foreclos\", \"framework\", \"framework\", \"framework\", \"framework\", \"function\", \"function\", \"function\", \"function\", \"function\", \"fundament\", \"fundament\", \"fundament\", \"fundament\", \"fundament\", \"gas\", \"gas\", \"gas\", \"gas\", \"gas\", \"gasolin\", \"gasolin\", \"gasolin\", \"gasolin\", \"gasolin\", \"geopolit\", \"geopolit\", \"geopolit\", \"geopolit\", \"german\", \"german\", \"german\", \"grow\", \"grow\", \"grow\", \"grow\", \"gse\", \"guarante\", \"guarante\", \"guarante\", \"guidanc\", \"guidanc\", \"guidanc\", \"guidanc\", \"gulf\", \"hamper\", \"hardship\", \"harvey\", \"heighten\", \"heighten\", \"heighten\", \"heighten\", \"henc\", \"henc\", \"hike\", \"hike\", \"hinder\", \"hinder\", \"hispan\", \"hispan\", \"hurrican\", \"hurrican\", \"hurrican\", \"hurrican\", \"impair\", \"impair\", \"inappropri\", \"incept\", \"inexpens\", \"inflict\", \"innov\", \"innov\", \"interim\", \"interv\", \"interven\", \"invers\", \"ior\", \"ip\", \"ip\", \"ip\", \"ireland\", \"irish\", \"irma\", \"item\", \"item\", \"item\", \"item\", \"iv\", \"kansa\", \"laid\", \"landfal\", \"languag\", \"languag\", \"languag\", \"languag\", \"leadership\", \"liftoff\", \"likelihood\", \"likelihood\", \"likelihood\", \"likelihood\", \"loss\", \"loss\", \"loss\", \"loss\", \"mae\", \"manner\", \"manner\", \"manner\", \"manner\", \"manner\", \"maria\", \"membership\", \"mf\", \"midwestern\", \"mismatch\", \"mismatch\", \"mmf\", \"mmfs\", \"model\", \"model\", \"model\", \"model\", \"mount\", \"municip\", \"municip\", \"municip\", \"municip\", \"m\\u00e9xico\", \"neutral\", \"neutral\", \"neutral\", \"neutral\", \"nonsupervisori\", \"oppos\", \"outag\", \"outlet\", \"outlin\", \"outlookin\", \"outweigh\", \"outweigh\", \"p2\", \"p2\", \"paper\", \"paper\", \"paper\", \"paper\", \"paramet\", \"paramet\", \"paramet\", \"parent\", \"paydown\", \"perform\", \"perform\", \"perform\", \"perform\", \"peripher\", \"peripher\", \"peripher\", \"piec\", \"pmis\", \"poor\", \"poor\", \"port\", \"portfolio\", \"portfolio\", \"portfolio\", \"portfolio\", \"portug\", \"portug\", \"postmeet\", \"postmeet\", \"postmeet\", \"postmeet\", \"postur\", \"postur\", \"preannounc\", \"preced\", \"preced\", \"preced\", \"preced\", \"prepaid\", \"preserv\", \"preserv\", \"preset\", \"preset\", \"presidenti\", \"prime\", \"prime\", \"prime\", \"prime\", \"prior\", \"prior\", \"prior\", \"pro\", \"propos\", \"propos\", \"propos\", \"propos\", \"propos\", \"prove\", \"prove\", \"prove\", \"prove\", \"proxim\", \"qualit\", \"qualit\", \"rata\", \"reaffirm\", \"reaffirm\", \"reaffirm\", \"reaffirm\", \"reaffirm\", \"realloc\", \"realloc\", \"realloc\", \"rebuild\", \"rebuild\", \"rebuild\", \"rebuild\", \"reconstruct\", \"referendum\", \"referendum\", \"referendum\", \"reform\", \"reform\", \"regular\", \"regular\", \"regular\", \"regular\", \"relev\", \"relief\", \"remitt\", \"resin\", \"resolut\", \"resolut\", \"resolut\", \"resolut\", \"restraint\", \"restraint\", \"restraint\", \"rre\", \"rrp\", \"rrp\", \"rrp\", \"rrps\", \"rrps\", \"rrps\", \"satisfactori\", \"save\", \"save\", \"save\", \"save\", \"scale\", \"scale\", \"scale\", \"scale\", \"scrutini\", \"sell\", \"sell\", \"sell\", \"sell\", \"sep\", \"sep\", \"sep\", \"sequestr\", \"session\", \"set\", \"set\", \"set\", \"set\", \"set\", \"settl\", \"settl\", \"shall\", \"shall\", \"shall\", \"sheetth\", \"shortfal\", \"shortfal\", \"shortfal\", \"shortfal\", \"shrink\", \"shrink\", \"shrink\", \"shut\", \"shutdown\", \"shutdown\", \"situationth\", \"slip\", \"slip\", \"sloo\", \"sloo\", \"sloo\", \"slope\", \"smaller\", \"smaller\", \"smaller\", \"smaller\", \"smooth\", \"smooth\", \"smooth\", \"smooth\", \"softwar\", \"softwar\", \"spain\", \"spanish\", \"specif\", \"specif\", \"specif\", \"staf\", \"stand\", \"stand\", \"steepli\", \"steepli\", \"steepli\", \"stimulus\", \"stimulus\", \"stimulus\", \"stimulus\", \"stopout\", \"storm\", \"storm\", \"storm\", \"strategi\", \"strategi\", \"strategi\", \"strategi\", \"subcommitte\", \"subcommitte\", \"subcommitte\", \"subcommitte\", \"submitt\", \"succinct\", \"summer\", \"summer\", \"summer\", \"summer\", \"supplementari\", \"swift\", \"symmetr\", \"symmetr\", \"syndic\", \"syndic\", \"syndic\", \"syndic\", \"taf\", \"talf\", \"tariff\", \"tech\", \"tech\", \"tech\", \"temporarili\", \"temporarili\", \"temporarili\", \"temporarili\", \"temporarili\", \"test\", \"test\", \"test\", \"test\", \"test\", \"thailand\", \"threshold\", \"threshold\", \"threshold\", \"threshold\", \"trillion\", \"trillion\", \"tslf\", \"turbul\", \"turbul\", \"ukrain\", \"undershoot\", \"underutil\", \"underutil\", \"underutil\", \"unlik\", \"unlik\", \"unlik\", \"unlik\", \"unsold\", \"unsold\", \"unusu\", \"unusu\", \"unusu\", \"unusu\", \"upbeat\", \"upbeat\", \"upbeat\", \"upcom\", \"upcom\", \"upcom\", \"updat\", \"updat\", \"updat\", \"updat\", \"updat\", \"vacanc\", \"vacanc\", \"valuat\", \"valuat\", \"valuat\", \"vast\", \"vulner\", \"vulner\", \"vulner\", \"vulner\", \"wait\", \"wait\", \"wait\", \"went\", \"west\", \"white\", \"white\", \"widespread\", \"widespread\", \"widespread\", \"widespread\", \"widespread\", \"winter\", \"winter\", \"winter\"]}, \"R\": 30, \"lambda.step\": 0.01, \"plot.opts\": {\"xlab\": \"PC1\", \"ylab\": \"PC2\"}, \"topic.order\": [2, 4, 3, 5, 1]};\n",
       "\n",
       "function LDAvis_load_lib(url, callback){\n",
       "  var s = document.createElement('script');\n",
       "  s.src = url;\n",
       "  s.async = true;\n",
       "  s.onreadystatechange = s.onload = callback;\n",
       "  s.onerror = function(){console.warn(\"failed to load library \" + url);};\n",
       "  document.getElementsByTagName(\"head\")[0].appendChild(s);\n",
       "}\n",
       "\n",
       "if(typeof(LDAvis) !== \"undefined\"){\n",
       "   // already loaded: just create the visualization\n",
       "   !function(LDAvis){\n",
       "       new LDAvis(\"#\" + \"ldavis_el351961119906562409844101669\", ldavis_el351961119906562409844101669_data);\n",
       "   }(LDAvis);\n",
       "}else if(typeof define === \"function\" && define.amd){\n",
       "   // require.js is available: use it to load d3/LDAvis\n",
       "   require.config({paths: {d3: \"https://cdnjs.cloudflare.com/ajax/libs/d3/3.5.5/d3.min\"}});\n",
       "   require([\"d3\"], function(d3){\n",
       "      window.d3 = d3;\n",
       "      LDAvis_load_lib(\"https://cdn.rawgit.com/bmabey/pyLDAvis/files/ldavis.v1.0.0.js\", function(){\n",
       "        new LDAvis(\"#\" + \"ldavis_el351961119906562409844101669\", ldavis_el351961119906562409844101669_data);\n",
       "      });\n",
       "    });\n",
       "}else{\n",
       "    // require.js not available: dynamically load d3 & LDAvis\n",
       "    LDAvis_load_lib(\"https://cdnjs.cloudflare.com/ajax/libs/d3/3.5.5/d3.min.js\", function(){\n",
       "         LDAvis_load_lib(\"https://cdn.rawgit.com/bmabey/pyLDAvis/files/ldavis.v1.0.0.js\", function(){\n",
       "                 new LDAvis(\"#\" + \"ldavis_el351961119906562409844101669\", ldavis_el351961119906562409844101669_data);\n",
       "            })\n",
       "         });\n",
       "}\n",
       "</script>"
      ],
      "text/plain": [
       "PreparedData(topic_coordinates=            Freq  cluster  topics           x           y\n",
       "topic                                                    \n",
       "1      32.825051        1       1   68.288986 -264.695374\n",
       "3      24.850232        1       2  148.827652   33.405369\n",
       "2      24.541146        1       3  233.056366 -193.526459\n",
       "4      14.836226        1       4   16.013798  -86.535347\n",
       "0       2.947345        1       5  320.678406  -36.897682, topic_info=     Category        Freq         Term       Total  loglift  logprob\n",
       "term                                                                \n",
       "998   Default   59.000000     hurrican   59.000000  30.0000  30.0000\n",
       "1762  Default  157.000000          rrp  157.000000  29.0000  29.0000\n",
       "53    Default   88.000000         2017   88.000000  28.0000  28.0000\n",
       "45    Default  105.000000         2010  105.000000  27.0000  27.0000\n",
       "669   Default   88.000000      disrupt   88.000000  26.0000  26.0000\n",
       "910   Default   81.000000      gasolin   81.000000  25.0000  25.0000\n",
       "742   Default  102.000000          eme  102.000000  24.0000  24.0000\n",
       "44    Default   65.000000         2009   65.000000  23.0000  23.0000\n",
       "52    Default  102.000000         2016  102.000000  22.0000  22.0000\n",
       "944   Default  163.000000      guidanc  163.000000  21.0000  21.0000\n",
       "150   Default   64.000000          afe   64.000000  20.0000  20.0000\n",
       "2161  Default   86.000000    underutil   86.000000  19.0000  19.0000\n",
       "532   Default   91.000000          cpi   91.000000  18.0000  18.0000\n",
       "54    Default   53.000000         2018   53.000000  17.0000  17.0000\n",
       "170   Default   53.000000           al   53.000000  16.0000  16.0000\n",
       "47    Default   98.000000         2012   98.000000  15.0000  15.0000\n",
       "46    Default  105.000000         2011  105.000000  14.0000  14.0000\n",
       "2030  Default   31.000000         talf   31.000000  13.0000  13.0000\n",
       "50    Default  102.000000         2015  102.000000  12.0000  12.0000\n",
       "1891  Default   80.000000      softwar   80.000000  11.0000  11.0000\n",
       "1204  Default   57.000000         loss   57.000000  10.0000  10.0000\n",
       "1427  Default   75.000000        paper   75.000000   9.0000   9.0000\n",
       "2057  Default   78.000000         test   78.000000   8.0000   8.0000\n",
       "2018  Default   32.000000      symmetr   32.000000   7.0000   7.0000\n",
       "55    Default   39.000000         2019   39.000000   6.0000   6.0000\n",
       "2183  Default   46.000000        unlik   46.000000   5.0000   5.0000\n",
       "1179  Default   39.000000      liftoff   39.000000   4.0000   4.0000\n",
       "43    Default   41.000000         2008   41.000000   3.0000   3.0000\n",
       "1950  Default   59.000000     stimulus   59.000000   2.0000   2.0000\n",
       "1318  Default   42.000000      neutral   42.000000   1.0000   1.0000\n",
       "...       ...         ...          ...         ...      ...      ...\n",
       "975    Topic5    1.356387         henc    3.876488   2.4742  -6.3330\n",
       "204    Topic5    4.064668        apart   22.949060   1.7933  -5.2355\n",
       "498    Topic5    1.355972      contour    3.920855   2.4625  -6.3333\n",
       "916    Topic5    3.569133     geopolit   18.709539   1.8676  -5.3655\n",
       "53     Topic5    8.973543         2017   88.596285   1.2345  -4.4436\n",
       "179    Topic5    3.765500        alter   22.350682   1.7433  -5.3120\n",
       "1068   Topic5    1.649355        innov    5.678801   2.2879  -6.1375\n",
       "669    Topic5    7.938926      disrupt   88.360210   1.1146  -4.5661\n",
       "1514   Topic5    1.145330       postur    3.168448   2.5067  -6.5022\n",
       "1973   Topic5    2.589184  subcommitte   13.617316   1.8643  -5.6865\n",
       "910    Topic5    6.916413      gasolin   81.518362   1.0573  -4.7040\n",
       "260    Topic5    2.509684        await   13.653618   1.8304  -5.7177\n",
       "527    Topic5    4.117423        cours   39.885105   1.2535  -5.2226\n",
       "1105   Topic5    2.034431           ip    9.033452   2.0335  -5.9276\n",
       "2046   Topic5    3.708280  temporarili   36.305500   1.2429  -5.3273\n",
       "2183   Topic5    3.972567        unlik   46.764831   1.0585  -5.2584\n",
       "742    Topic5    5.425242          eme  102.962353   0.5810  -4.9468\n",
       "128    Topic5    3.203178   acknowledg   31.185167   1.2485  -5.4737\n",
       "835    Topic5    3.426433          far   38.561535   1.1035  -5.4063\n",
       "1114   Topic5    3.050167         item   29.241554   1.2639  -5.5227\n",
       "1576   Topic5    3.329444        prove   49.821107   0.8186  -5.4350\n",
       "2018   Topic5    2.896890      symmetr   32.060862   1.1203  -5.5742\n",
       "1993   Topic5    3.123154       summer   46.140737   0.8314  -5.4990\n",
       "809    Topic5    2.825730       experi   31.672018   1.1076  -5.5991\n",
       "614    Topic5    2.866325       deputi   44.187759   0.7888  -5.5848\n",
       "1180   Topic5    2.861655   likelihood   46.174588   0.7432  -5.5864\n",
       "178    Topic5    2.907357      alreadi   55.126274   0.5819  -5.5706\n",
       "150    Topic5    2.845413          afe   64.814110   0.3985  -5.5921\n",
       "1305   Topic5    2.608602      municip   51.193510   0.5475  -5.6790\n",
       "1950   Topic5    2.595224     stimulus   59.370261   0.3941  -5.6842\n",
       "\n",
       "[359 rows x 6 columns], token_table=      Topic      Freq        Term\n",
       "term                             \n",
       "0         2  0.083035         000\n",
       "0         3  0.830350         000\n",
       "4         4  0.906097         100\n",
       "18        2  0.763123          17\n",
       "18        3  0.040164          17\n",
       "18        4  0.160657          17\n",
       "19        4  0.878866         175\n",
       "34        2  0.175775         200\n",
       "34        3  0.117183         200\n",
       "34        4  0.703098         200\n",
       "41        4  0.806562        2006\n",
       "43        1  0.240682        2008\n",
       "43        2  0.024068        2008\n",
       "43        3  0.024068        2008\n",
       "43        4  0.697979        2008\n",
       "44        1  0.272873        2009\n",
       "44        4  0.727661        2009\n",
       "45        1  0.464851        2010\n",
       "45        4  0.531258        2010\n",
       "46        1  0.833693        2011\n",
       "46        2  0.037895        2011\n",
       "46        4  0.132633        2011\n",
       "47        1  0.914935        2012\n",
       "47        2  0.040664        2012\n",
       "47        4  0.040664        2012\n",
       "47        5  0.010166        2012\n",
       "48        1  0.693863        2013\n",
       "48        2  0.295745        2013\n",
       "49        1  0.443926        2014\n",
       "49        2  0.517914        2014\n",
       "...     ...       ...         ...\n",
       "2214      1  0.073134       updat\n",
       "2214      2  0.609450       updat\n",
       "2214      3  0.170646       updat\n",
       "2214      4  0.097512       updat\n",
       "2214      5  0.048756       updat\n",
       "2228      1  0.855631      vacanc\n",
       "2228      4  0.118018      vacanc\n",
       "2232      2  0.294888      valuat\n",
       "2232      3  0.676508      valuat\n",
       "2232      4  0.017346      valuat\n",
       "2236      5  0.674736        vast\n",
       "2256      1  0.215262      vulner\n",
       "2256      2  0.076879      vulner\n",
       "2256      3  0.599659      vulner\n",
       "2256      4  0.092255      vulner\n",
       "2257      2  0.101121        wait\n",
       "2257      3  0.842678        wait\n",
       "2257      4  0.067414        wait\n",
       "2272      4  0.906038        went\n",
       "2273      2  0.929660        west\n",
       "2279      3  0.956240       white\n",
       "2279      5  0.045535       white\n",
       "2283      1  0.424493  widespread\n",
       "2283      2  0.110737  widespread\n",
       "2283      3  0.110737  widespread\n",
       "2283      4  0.350668  widespread\n",
       "2283      5  0.018456  widespread\n",
       "2289      1  0.147957      winter\n",
       "2289      2  0.702797      winter\n",
       "2289      3  0.110968      winter\n",
       "\n",
       "[723 rows x 3 columns], R=30, lambda_step=0.01, plot_opts={'xlab': 'PC1', 'ylab': 'PC2'}, topic_order=[2, 4, 3, 5, 1])"
      ]
     },
     "execution_count": 13,
     "metadata": {},
     "output_type": "execute_result"
    }
   ],
   "source": [
    "#Create pyLDA visualization \n",
    "pyLDAvis.enable_notebook()\n",
    "panel = pyLDAvis.sklearn.prepare(ldaModel, countVectorized, countVectorizer, mds = 'tsne')\n",
    "panel"
   ]
  },
  {
   "cell_type": "markdown",
   "metadata": {},
   "source": [
    "\n",
    "# Analysis\n",
    "\n",
    "The topics are very spread apart from one another with no overlaps, indicating that each topic is fairly unique. Upon inspection of each topic, it is clear that the topics are grouped by timeframes. If the years are not a big enough give away enough for you, let's examine topic 4. Set lambda to 0.6, which is thought to provide the most interpretable words for discerning topics from one another. The first 5 words are \"2009\", \"2010, \"talf\", \"loss\", and \"2008\". The most prominent thing to me at first was \"talf\", mainly because I have no idea what that word means. Term Asset Backed Securities Loan Facility (TALF) is a Federal Reserve stimulus program created in 2008 that lasted until 2010 that promoted consumer spending through the issuance of asset backed securities. Going through the rest of the topics, you can find all sorts of little connections like that between the words.\n",
    "\n",
    "Topic 5 provides the most unique bag of words. It is the smallest circle, showing that it is the least weighted topic. However, every word relates to the tropical storms that occured in 2017. While this topic only captured one specific document, it shows that particular meeting/document was unique enough to command its own entire topic. If you continue to inspect the topics and the document topic distributions above, you will continue to see trends in groupings based on time. \n",
    "\n",
    "# Limitations and Future Expansion\n",
    "\n",
    "However, the largest limitation faced in this project was in fact the corpus itself. After removal of words that occured in X number of documents, the unique word count dropped dramatically. The meeting minutes shared a lot of similarity in both formatting and in word structure. While that provided ease in web scraping, it limited the overall model strength. \n",
    "\n",
    "This was only my first foray into unsupervised machine learning models and was a great learning exercise. There are several areas that I wish to expand on in the near future. The corpus should be expanded to capture FOMC meetings prior to the recession to gather a more holistic view of the evolution of the meetings post crisis. The preprocessing phase as well as tuning and experimentation with the LDA hyperparameters could  be refined for better more interpretable results. Removal of years from the token list and then having a human attempt to classify topic years  may prove to be a strong cross validation of the model. I will hopefully expand on this particular project in the future, if not I will atleast take everything I learned and apply it to the next one.  "
   ]
  }
 ],
 "metadata": {
  "kernelspec": {
   "display_name": "Python 3",
   "language": "python",
   "name": "python3"
  },
  "language_info": {
   "codemirror_mode": {
    "name": "ipython",
    "version": 3
   },
   "file_extension": ".py",
   "mimetype": "text/x-python",
   "name": "python",
   "nbconvert_exporter": "python",
   "pygments_lexer": "ipython3",
   "version": "3.6.3"
  }
 },
 "nbformat": 4,
 "nbformat_minor": 2
}
